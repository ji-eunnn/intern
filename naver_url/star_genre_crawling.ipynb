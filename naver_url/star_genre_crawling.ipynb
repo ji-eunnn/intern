{
 "cells": [
  {
   "cell_type": "code",
   "execution_count": null,
   "id": "f7d4c589",
   "metadata": {},
   "outputs": [],
   "source": [
    "# star_ko_data 에서 트로트가수 분류가 필요함\n",
    "# series_id, 이름, 최신 앨범명, 발매 날짜, 장르(한 컬럼에 몰아서)\n",
    "#\n",
    "\n",
    "\n",
    "# 1차로 가수만 가지고 해보자"
   ]
  },
  {
   "cell_type": "code",
   "execution_count": null,
   "id": "4d5462a3",
   "metadata": {},
   "outputs": [],
   "source": [
    "# 중복 삭제\n",
    "# DELETE a FROM star_album_genre a, star_album_genre b WHERE a.pk > b.pk AND a.series_id = b.series_id;"
   ]
  },
  {
   "cell_type": "code",
   "execution_count": 602,
   "id": "bf251a11",
   "metadata": {},
   "outputs": [],
   "source": [
    "import pandas as pd\n",
    "from bs4 import BeautifulSoup\n",
    "import requests\n",
    "import re\n",
    "import datetime\n",
    "from difflib import SequenceMatcher\n",
    "import pymysql\n",
    "from sqlalchemy import create_engine\n",
    "from tqdm import tqdm\n",
    "from selenium import webdriver\n",
    "from webdriver_manager.chrome import ChromeDriverManager\n",
    "from tqdm import tqdm\n",
    "import time"
   ]
  },
  {
   "cell_type": "code",
   "execution_count": 603,
   "id": "8ad18ed4",
   "metadata": {},
   "outputs": [],
   "source": [
    "def db_connection(host_name='ds'):\n",
    "    host_url = \"db.ds.mycelebs.com\"\n",
    "    user_nm = \"j_eungg\"\n",
    "    passwd = \"wldms10529\"\n",
    "    port_num = 3306\n",
    "    db_name = \"star_ko\"\n",
    "    conn = pymysql.connect(host=host_url, user=user_nm, passwd=passwd, port = port_num, charset='utf8',\n",
    "                           db=db_name, cursorclass=pymysql.cursors.DictCursor)\n",
    "    # cursorclass=pymysql.cursors.DictCursor 추가 -> 데이터프레임으로 다루기 쉽게 딕셔너리 형태로 결과 반환해줌, cursor는 튜플형태\n",
    "    # db=db,\n",
    "    engine = create_engine(f'mysql+pymysql://{user_nm}:{passwd}@{host_url}:{port_num}/{db_name}?charset=utf8mb4')\n",
    "    return conn, engine"
   ]
  },
  {
   "cell_type": "markdown",
   "id": "eeb31e57",
   "metadata": {},
   "source": [
    "## 1. VIBE key 값 (vibeCd) 수집"
   ]
  },
  {
   "cell_type": "code",
   "execution_count": 604,
   "id": "5479373a",
   "metadata": {
    "scrolled": true
   },
   "outputs": [
    {
     "data": {
      "text/html": [
       "<div>\n",
       "<style scoped>\n",
       "    .dataframe tbody tr th:only-of-type {\n",
       "        vertical-align: middle;\n",
       "    }\n",
       "\n",
       "    .dataframe tbody tr th {\n",
       "        vertical-align: top;\n",
       "    }\n",
       "\n",
       "    .dataframe thead th {\n",
       "        text-align: right;\n",
       "    }\n",
       "</style>\n",
       "<table border=\"1\" class=\"dataframe\">\n",
       "  <thead>\n",
       "    <tr style=\"text-align: right;\">\n",
       "      <th></th>\n",
       "      <th>cd_pk</th>\n",
       "      <th>series_id</th>\n",
       "      <th>cd_name</th>\n",
       "      <th>cd_category</th>\n",
       "      <th>cd_gender</th>\n",
       "      <th>cd_search_word</th>\n",
       "      <th>cd_solr_search</th>\n",
       "      <th>cd_real_name</th>\n",
       "      <th>cd_basic_info</th>\n",
       "      <th>cd_height</th>\n",
       "      <th>...</th>\n",
       "      <th>profile_url_rectangle_small</th>\n",
       "      <th>profile_url_diagonal</th>\n",
       "      <th>profile_url_square_medium</th>\n",
       "      <th>profile_url_square_small</th>\n",
       "      <th>profile_url_round_large</th>\n",
       "      <th>profile_url_round_medium</th>\n",
       "      <th>profile_url_round_small</th>\n",
       "      <th>profile_url_rectangle_large</th>\n",
       "      <th>profile_url_square_large</th>\n",
       "      <th>agency_idx</th>\n",
       "    </tr>\n",
       "  </thead>\n",
       "  <tbody>\n",
       "    <tr>\n",
       "      <th>0</th>\n",
       "      <td>1</td>\n",
       "      <td>1</td>\n",
       "      <td>2AM</td>\n",
       "      <td>가수</td>\n",
       "      <td>남자</td>\n",
       "      <td>아이돌 | 보이그룹 | 콘서트 | 공연 | 음반 | 조권 | 창민 | 슬옹 | 진운...</td>\n",
       "      <td>(content_all:(title:\"2am\" AND \"기자\" ))</td>\n",
       "      <td></td>\n",
       "      <td>None</td>\n",
       "      <td>NaN</td>\n",
       "      <td>...</td>\n",
       "      <td>https://all.image.mycelebs.com/1/1_1035@420.jpg</td>\n",
       "      <td>https://all.image.mycelebs.com/1/1_573@372.jpg</td>\n",
       "      <td>https://all.image.mycelebs.com/1/1_288@288.jpg</td>\n",
       "      <td>https://all.image.mycelebs.com/1/1_240@240.jpg</td>\n",
       "      <td>https://all.image.mycelebs.com/1/1_249@249.jpg</td>\n",
       "      <td>https://all.image.mycelebs.com/1/1_144@144.jpg</td>\n",
       "      <td>https://all.image.mycelebs.com/1/1_108@108.jpg</td>\n",
       "      <td>https://all.image.mycelebs.com/1/1_1035@738.jpg</td>\n",
       "      <td>https://all.image.mycelebs.com/1/1_420@420.jpg</td>\n",
       "      <td>NaN</td>\n",
       "    </tr>\n",
       "    <tr>\n",
       "      <th>1</th>\n",
       "      <td>2</td>\n",
       "      <td>2</td>\n",
       "      <td>투애니원</td>\n",
       "      <td>가수</td>\n",
       "      <td>여자</td>\n",
       "      <td>걸그룹 | 콘서트 | 공연 | 음반 | 씨엘 | 봄 | 다라 | 민지 | CL \"2...</td>\n",
       "      <td>(content_all:((title:\"2ne1\" title:\"투애니원\" title...</td>\n",
       "      <td>2NE1</td>\n",
       "      <td>None</td>\n",
       "      <td>NaN</td>\n",
       "      <td>...</td>\n",
       "      <td>https://all.image.mycelebs.com/2/2_1035@420.jpg</td>\n",
       "      <td>https://all.image.mycelebs.com/2/2_573@372.jpg</td>\n",
       "      <td>https://all.image.mycelebs.com/2/2_288@288.jpg</td>\n",
       "      <td>https://all.image.mycelebs.com/2/2_240@240.jpg</td>\n",
       "      <td>https://all.image.mycelebs.com/2/2_249@249.jpg</td>\n",
       "      <td>https://all.image.mycelebs.com/2/2_144@144.jpg</td>\n",
       "      <td>https://all.image.mycelebs.com/2/2_108@108.jpg</td>\n",
       "      <td>https://all.image.mycelebs.com/2/2_1035@738.jpg</td>\n",
       "      <td>https://all.image.mycelebs.com/2/2_420@420.jpg</td>\n",
       "      <td>161236.0</td>\n",
       "    </tr>\n",
       "  </tbody>\n",
       "</table>\n",
       "<p>2 rows × 68 columns</p>\n",
       "</div>"
      ],
      "text/plain": [
       "   cd_pk  series_id cd_name cd_category cd_gender  \\\n",
       "0      1          1     2AM          가수        남자   \n",
       "1      2          2    투애니원          가수        여자   \n",
       "\n",
       "                                      cd_search_word  \\\n",
       "0  아이돌 | 보이그룹 | 콘서트 | 공연 | 음반 | 조권 | 창민 | 슬옹 | 진운...   \n",
       "1  걸그룹 | 콘서트 | 공연 | 음반 | 씨엘 | 봄 | 다라 | 민지 | CL \"2...   \n",
       "\n",
       "                                      cd_solr_search cd_real_name  \\\n",
       "0              (content_all:(title:\"2am\" AND \"기자\" ))                \n",
       "1  (content_all:((title:\"2ne1\" title:\"투애니원\" title...         2NE1   \n",
       "\n",
       "  cd_basic_info  cd_height  ...  \\\n",
       "0          None        NaN  ...   \n",
       "1          None        NaN  ...   \n",
       "\n",
       "                       profile_url_rectangle_small  \\\n",
       "0  https://all.image.mycelebs.com/1/1_1035@420.jpg   \n",
       "1  https://all.image.mycelebs.com/2/2_1035@420.jpg   \n",
       "\n",
       "                             profile_url_diagonal  \\\n",
       "0  https://all.image.mycelebs.com/1/1_573@372.jpg   \n",
       "1  https://all.image.mycelebs.com/2/2_573@372.jpg   \n",
       "\n",
       "                        profile_url_square_medium  \\\n",
       "0  https://all.image.mycelebs.com/1/1_288@288.jpg   \n",
       "1  https://all.image.mycelebs.com/2/2_288@288.jpg   \n",
       "\n",
       "                         profile_url_square_small  \\\n",
       "0  https://all.image.mycelebs.com/1/1_240@240.jpg   \n",
       "1  https://all.image.mycelebs.com/2/2_240@240.jpg   \n",
       "\n",
       "                          profile_url_round_large  \\\n",
       "0  https://all.image.mycelebs.com/1/1_249@249.jpg   \n",
       "1  https://all.image.mycelebs.com/2/2_249@249.jpg   \n",
       "\n",
       "                         profile_url_round_medium  \\\n",
       "0  https://all.image.mycelebs.com/1/1_144@144.jpg   \n",
       "1  https://all.image.mycelebs.com/2/2_144@144.jpg   \n",
       "\n",
       "                          profile_url_round_small  \\\n",
       "0  https://all.image.mycelebs.com/1/1_108@108.jpg   \n",
       "1  https://all.image.mycelebs.com/2/2_108@108.jpg   \n",
       "\n",
       "                       profile_url_rectangle_large  \\\n",
       "0  https://all.image.mycelebs.com/1/1_1035@738.jpg   \n",
       "1  https://all.image.mycelebs.com/2/2_1035@738.jpg   \n",
       "\n",
       "                         profile_url_square_large agency_idx  \n",
       "0  https://all.image.mycelebs.com/1/1_420@420.jpg        NaN  \n",
       "1  https://all.image.mycelebs.com/2/2_420@420.jpg   161236.0  \n",
       "\n",
       "[2 rows x 68 columns]"
      ]
     },
     "execution_count": 604,
     "metadata": {},
     "output_type": "execute_result"
    }
   ],
   "source": [
    "conn, engine = db_connection()\n",
    "qry = \"SELECT * FROM star_ko_data WHERE cd_category like '%가수%' and cd_is_use=1\"\n",
    "data = pd.read_sql(qry, conn)\n",
    "data.head(2)"
   ]
  },
  {
   "cell_type": "code",
   "execution_count": 605,
   "id": "1d010f51",
   "metadata": {},
   "outputs": [
    {
     "name": "stdout",
     "output_type": "stream",
     "text": [
      "star_ko_data 가수 수 : 5819\n"
     ]
    }
   ],
   "source": [
    "data_list = data['series_id'].to_list()\n",
    "print(\"star_ko_data 가수 수 :\", len(data_list))"
   ]
  },
  {
   "cell_type": "code",
   "execution_count": 606,
   "id": "59b03531",
   "metadata": {},
   "outputs": [
    {
     "name": "stdout",
     "output_type": "stream",
     "text": [
      "star_ko_profile_url 네이버 프로필 수집된 개체 수 : 10138\n"
     ]
    }
   ],
   "source": [
    "qry = f'SELECT * FROM star_ko_profile_url WHERE naver_url is not NULL AND naver_url != \\'0\\' and naver_url != \\'x\\''\n",
    "profileData = pd.read_sql(qry, con=conn)\n",
    "profileData_list = profileData['series_id'].to_list()\n",
    "print(\"star_ko_profile_url 네이버 프로필 수집된 개체 수 :\", len(profileData_list))"
   ]
  },
  {
   "cell_type": "code",
   "execution_count": 591,
   "id": "1f527b95",
   "metadata": {},
   "outputs": [
    {
     "name": "stdout",
     "output_type": "stream",
     "text": [
      "가수 중에서 네이버 프로필 있는 개체 수 : 3763\n"
     ]
    }
   ],
   "source": [
    "# 수집할 대상\n",
    "\n",
    "data_ = []\n",
    "\n",
    "for p in profileData_list :\n",
    "    if p in data_list :\n",
    "        data_.append(p)\n",
    "        \n",
    "print(\"가수 중에서 네이버 프로필 있는 개체 수 :\", len(data_))"
   ]
  },
  {
   "cell_type": "code",
   "execution_count": 592,
   "id": "7ffa8349",
   "metadata": {},
   "outputs": [],
   "source": [
    "genreData_list = []\n",
    "\n",
    "conn, engine = db_connection()\n",
    "\n",
    "# qry = f'SELECT * FROM star_album_genre WHERE vibeCd is not NULL'\n",
    "qry = f'SELECT * FROM star_album_genre'\n",
    "genreData = pd.read_sql(qry, con=conn)\n",
    "genreData_list = genreData['series_id'].to_list()"
   ]
  },
  {
   "cell_type": "code",
   "execution_count": 593,
   "id": "bae5b793",
   "metadata": {},
   "outputs": [],
   "source": [
    "# 최종 대상\n",
    "# 수집 대상 중에 star_album_genre 에 없는 사람\n",
    "\n",
    "final = []\n",
    "\n",
    "for idx in data_ :\n",
    "    if idx not in genreData_list :\n",
    "        final.append(idx) "
   ]
  },
  {
   "cell_type": "code",
   "execution_count": 594,
   "id": "3ed9f6af",
   "metadata": {},
   "outputs": [
    {
     "data": {
      "text/plain": [
       "1977"
      ]
     },
     "execution_count": 594,
     "metadata": {},
     "output_type": "execute_result"
    }
   ],
   "source": [
    "len(final)"
   ]
  },
  {
   "cell_type": "code",
   "execution_count": 595,
   "id": "8bf6bf5e",
   "metadata": {},
   "outputs": [],
   "source": [
    "conn.close()"
   ]
  },
  {
   "cell_type": "code",
   "execution_count": 598,
   "id": "30d4e562",
   "metadata": {},
   "outputs": [],
   "source": [
    "conn, engine = db_connection()\n",
    "\n",
    "qry = f'SELECT * FROM star_album_genre WHERE series_id >= 1823 and series_id <= 2304'\n",
    "final = pd.read_sql(qry, con=conn)\n",
    "final = final['series_id'].to_list()"
   ]
  },
  {
   "cell_type": "code",
   "execution_count": 600,
   "id": "abfa6749",
   "metadata": {},
   "outputs": [
    {
     "data": {
      "text/plain": [
       "102"
      ]
     },
     "execution_count": 600,
     "metadata": {},
     "output_type": "execute_result"
    }
   ],
   "source": [
    "len(final)"
   ]
  },
  {
   "cell_type": "code",
   "execution_count": 601,
   "id": "ab6e919a",
   "metadata": {},
   "outputs": [
    {
     "name": "stderr",
     "output_type": "stream",
     "text": [
      "\n",
      "\n",
      "====== WebDriver manager ======\n",
      "Current google-chrome version is 91.0.4472\n",
      "Get LATEST driver version for 91.0.4472\n",
      "Driver [/Users/jieun/.wdm/drivers/chromedriver/mac64/91.0.4472.101/chromedriver] found in cache\n"
     ]
    },
    {
     "name": "stdout",
     "output_type": "stream",
     "text": [
      "vibeCd 수집할 개체 수 입력 :102\n"
     ]
    },
    {
     "name": "stderr",
     "output_type": "stream",
     "text": [
      "  1%|          | 1/102 [00:08<14:25,  8.57s/it]"
     ]
    },
    {
     "name": "stdout",
     "output_type": "stream",
     "text": [
      "[INFO] 임현식  insert 완료\n"
     ]
    },
    {
     "name": "stderr",
     "output_type": "stream",
     "text": [
      "\r",
      "  2%|▏         | 2/102 [00:14<12:05,  7.26s/it]"
     ]
    },
    {
     "name": "stdout",
     "output_type": "stream",
     "text": [
      "[INFO] 장석현  insert 완료\n"
     ]
    },
    {
     "name": "stderr",
     "output_type": "stream",
     "text": [
      "\r",
      "  3%|▎         | 3/102 [00:20<10:42,  6.49s/it]"
     ]
    },
    {
     "name": "stdout",
     "output_type": "stream",
     "text": [
      "[INFO] 장예은  insert 완료\n"
     ]
    },
    {
     "name": "stderr",
     "output_type": "stream",
     "text": [
      "\r",
      "  4%|▍         | 4/102 [00:26<10:17,  6.30s/it]"
     ]
    },
    {
     "name": "stdout",
     "output_type": "stream",
     "text": [
      "[INFO] 장혜진  insert 완료\n"
     ]
    },
    {
     "name": "stderr",
     "output_type": "stream",
     "text": [
      "\r",
      "  5%|▍         | 5/102 [00:32<10:05,  6.24s/it]"
     ]
    },
    {
     "name": "stdout",
     "output_type": "stream",
     "text": [
      "[INFO] 저메인 잭슨  insert 완료\n"
     ]
    },
    {
     "name": "stderr",
     "output_type": "stream",
     "text": [
      "\r",
      "  6%|▌         | 6/102 [00:38<09:44,  6.09s/it]"
     ]
    },
    {
     "name": "stdout",
     "output_type": "stream",
     "text": [
      "[INFO] 전영록  insert 완료\n"
     ]
    },
    {
     "name": "stderr",
     "output_type": "stream",
     "text": [
      "\r",
      "  7%|▋         | 7/102 [00:44<09:25,  5.95s/it]"
     ]
    },
    {
     "name": "stdout",
     "output_type": "stream",
     "text": [
      "[INFO] 전태관  insert 완료\n"
     ]
    },
    {
     "name": "stderr",
     "output_type": "stream",
     "text": [
      "\r",
      "  8%|▊         | 8/102 [00:50<09:33,  6.10s/it]"
     ]
    },
    {
     "name": "stdout",
     "output_type": "stream",
     "text": [
      "[INFO] 정국  insert 완료\n"
     ]
    },
    {
     "name": "stderr",
     "output_type": "stream",
     "text": [
      "\r",
      "  9%|▉         | 9/102 [00:56<09:35,  6.19s/it]"
     ]
    },
    {
     "name": "stdout",
     "output_type": "stream",
     "text": [
      "[INFO] 정은선  insert 완료\n"
     ]
    },
    {
     "name": "stderr",
     "output_type": "stream",
     "text": [
      "\r",
      " 10%|▉         | 10/102 [01:03<09:32,  6.23s/it]"
     ]
    },
    {
     "name": "stdout",
     "output_type": "stream",
     "text": [
      "[INFO] 정찬우  insert 완료\n"
     ]
    },
    {
     "name": "stderr",
     "output_type": "stream",
     "text": [
      "\r",
      " 11%|█         | 11/102 [01:09<09:16,  6.11s/it]"
     ]
    },
    {
     "name": "stdout",
     "output_type": "stream",
     "text": [
      "[INFO] 정태춘  insert 완료\n"
     ]
    },
    {
     "name": "stderr",
     "output_type": "stream",
     "text": [
      "\r",
      " 12%|█▏        | 12/102 [01:15<09:14,  6.16s/it]"
     ]
    },
    {
     "name": "stdout",
     "output_type": "stream",
     "text": [
      "[INFO] 정하나  insert 완료\n"
     ]
    },
    {
     "name": "stderr",
     "output_type": "stream",
     "text": [
      "\r",
      " 13%|█▎        | 13/102 [01:20<08:54,  6.01s/it]"
     ]
    },
    {
     "name": "stdout",
     "output_type": "stream",
     "text": [
      "[INFO] 정훈희  insert 완료\n"
     ]
    },
    {
     "name": "stderr",
     "output_type": "stream",
     "text": [
      "\r",
      " 14%|█▎        | 14/102 [01:27<08:53,  6.06s/it]"
     ]
    },
    {
     "name": "stdout",
     "output_type": "stream",
     "text": [
      "[INFO] 제시  insert 완료\n"
     ]
    },
    {
     "name": "stderr",
     "output_type": "stream",
     "text": [
      "\r",
      " 15%|█▍        | 15/102 [01:32<08:37,  5.95s/it]"
     ]
    },
    {
     "name": "stdout",
     "output_type": "stream",
     "text": [
      "[INFO] 제이니  insert 완료\n"
     ]
    },
    {
     "name": "stderr",
     "output_type": "stream",
     "text": [
      "\r",
      " 16%|█▌        | 16/102 [01:38<08:33,  5.97s/it]"
     ]
    },
    {
     "name": "stdout",
     "output_type": "stream",
     "text": [
      "[INFO] 조경수  insert 완료\n"
     ]
    },
    {
     "name": "stderr",
     "output_type": "stream",
     "text": [
      "\r",
      " 17%|█▋        | 17/102 [01:45<08:34,  6.05s/it]"
     ]
    },
    {
     "name": "stdout",
     "output_type": "stream",
     "text": [
      "[INFO] 조이  insert 완료\n"
     ]
    },
    {
     "name": "stderr",
     "output_type": "stream",
     "text": [
      "\r",
      " 18%|█▊        | 18/102 [01:47<06:54,  4.94s/it]"
     ]
    },
    {
     "name": "stdout",
     "output_type": "stream",
     "text": [
      "VIBE url NONE\n"
     ]
    },
    {
     "name": "stderr",
     "output_type": "stream",
     "text": [
      "\r",
      " 19%|█▊        | 19/102 [01:53<07:25,  5.37s/it]"
     ]
    },
    {
     "name": "stdout",
     "output_type": "stream",
     "text": [
      "[INFO] 쟈니  insert 완료\n"
     ]
    },
    {
     "name": "stderr",
     "output_type": "stream",
     "text": [
      "\r",
      " 20%|█▉        | 20/102 [01:59<07:38,  5.59s/it]"
     ]
    },
    {
     "name": "stdout",
     "output_type": "stream",
     "text": [
      "[INFO] 지연  insert 완료\n"
     ]
    },
    {
     "name": "stderr",
     "output_type": "stream",
     "text": [
      "\r",
      " 21%|██        | 21/102 [02:06<07:45,  5.75s/it]"
     ]
    },
    {
     "name": "stdout",
     "output_type": "stream",
     "text": [
      "[INFO] 차지연  insert 완료\n"
     ]
    },
    {
     "name": "stderr",
     "output_type": "stream",
     "text": [
      "\r",
      " 22%|██▏       | 22/102 [02:11<07:43,  5.79s/it]"
     ]
    },
    {
     "name": "stdout",
     "output_type": "stream",
     "text": [
      "[INFO] 천둥  insert 완료\n"
     ]
    },
    {
     "name": "stderr",
     "output_type": "stream",
     "text": [
      "\r",
      " 23%|██▎       | 23/102 [02:14<06:17,  4.78s/it]"
     ]
    },
    {
     "name": "stdout",
     "output_type": "stream",
     "text": [
      "VIBE url NONE\n"
     ]
    },
    {
     "name": "stderr",
     "output_type": "stream",
     "text": [
      "\r",
      " 24%|██▎       | 24/102 [02:20<06:40,  5.13s/it]"
     ]
    },
    {
     "name": "stdout",
     "output_type": "stream",
     "text": [
      "[INFO] 켄  insert 완료\n"
     ]
    },
    {
     "name": "stderr",
     "output_type": "stream",
     "text": [
      "\r",
      " 25%|██▍       | 25/102 [02:22<05:21,  4.18s/it]"
     ]
    },
    {
     "name": "stdout",
     "output_type": "stream",
     "text": [
      "VIBE url NONE\n"
     ]
    },
    {
     "name": "stderr",
     "output_type": "stream",
     "text": [
      "\r",
      " 25%|██▌       | 26/102 [02:28<06:00,  4.75s/it]"
     ]
    },
    {
     "name": "stdout",
     "output_type": "stream",
     "text": [
      "[INFO] 테일러 스위프트  insert 완료\n"
     ]
    },
    {
     "name": "stderr",
     "output_type": "stream",
     "text": [
      "\r",
      " 26%|██▋       | 27/102 [02:34<06:16,  5.02s/it]"
     ]
    },
    {
     "name": "stdout",
     "output_type": "stream",
     "text": [
      "[INFO] 토마츠 하루카  insert 완료\n"
     ]
    },
    {
     "name": "stderr",
     "output_type": "stream",
     "text": [
      "\r",
      " 27%|██▋       | 28/102 [02:35<05:03,  4.10s/it]"
     ]
    },
    {
     "name": "stdout",
     "output_type": "stream",
     "text": [
      "VIBE url NONE\n"
     ]
    },
    {
     "name": "stderr",
     "output_type": "stream",
     "text": [
      "\r",
      " 28%|██▊       | 29/102 [02:42<05:45,  4.73s/it]"
     ]
    },
    {
     "name": "stdout",
     "output_type": "stream",
     "text": [
      "[INFO] 패리스 힐튼  insert 완료\n"
     ]
    },
    {
     "name": "stderr",
     "output_type": "stream",
     "text": [
      "\r",
      " 29%|██▉       | 30/102 [02:44<04:53,  4.07s/it]"
     ]
    },
    {
     "name": "stdout",
     "output_type": "stream",
     "text": [
      "VIBE url NONE\n"
     ]
    },
    {
     "name": "stderr",
     "output_type": "stream",
     "text": [
      "\r",
      " 30%|███       | 31/102 [02:51<05:37,  4.75s/it]"
     ]
    },
    {
     "name": "stdout",
     "output_type": "stream",
     "text": [
      "[INFO] 펀치  insert 완료\n"
     ]
    },
    {
     "name": "stderr",
     "output_type": "stream",
     "text": [
      "\r",
      " 31%|███▏      | 32/102 [02:56<05:55,  5.07s/it]"
     ]
    },
    {
     "name": "stdout",
     "output_type": "stream",
     "text": [
      "[INFO] 한대수  insert 완료\n"
     ]
    },
    {
     "name": "stderr",
     "output_type": "stream",
     "text": [
      "\r",
      " 32%|███▏      | 33/102 [03:02<06:07,  5.33s/it]"
     ]
    },
    {
     "name": "stdout",
     "output_type": "stream",
     "text": [
      "[INFO] 한라  insert 완료\n"
     ]
    },
    {
     "name": "stderr",
     "output_type": "stream",
     "text": [
      "\r",
      " 33%|███▎      | 34/102 [03:08<06:16,  5.54s/it]"
     ]
    },
    {
     "name": "stdout",
     "output_type": "stream",
     "text": [
      "[INFO] 한영  insert 완료\n"
     ]
    },
    {
     "name": "stderr",
     "output_type": "stream",
     "text": [
      "\r",
      " 34%|███▍      | 35/102 [03:15<06:25,  5.76s/it]"
     ]
    },
    {
     "name": "stdout",
     "output_type": "stream",
     "text": [
      "[INFO] 한혜진  insert 완료\n"
     ]
    },
    {
     "name": "stderr",
     "output_type": "stream",
     "text": [
      "\r",
      " 35%|███▌      | 36/102 [03:21<06:29,  5.89s/it]"
     ]
    },
    {
     "name": "stdout",
     "output_type": "stream",
     "text": [
      "[INFO] 허경영  insert 완료\n"
     ]
    },
    {
     "name": "stderr",
     "output_type": "stream",
     "text": [
      "\r",
      " 36%|███▋      | 37/102 [03:26<06:17,  5.80s/it]"
     ]
    },
    {
     "name": "stdout",
     "output_type": "stream",
     "text": [
      "[INFO] 현아  insert 완료\n"
     ]
    },
    {
     "name": "stderr",
     "output_type": "stream",
     "text": [
      "\r",
      " 37%|███▋      | 38/102 [03:32<06:10,  5.79s/it]"
     ]
    },
    {
     "name": "stdout",
     "output_type": "stream",
     "text": [
      "[INFO] 현철  insert 완료\n"
     ]
    },
    {
     "name": "stderr",
     "output_type": "stream",
     "text": [
      "\r",
      " 38%|███▊      | 39/102 [03:38<06:13,  5.93s/it]"
     ]
    },
    {
     "name": "stdout",
     "output_type": "stream",
     "text": [
      "[INFO] 혜은이  insert 완료\n"
     ]
    },
    {
     "name": "stderr",
     "output_type": "stream",
     "text": [
      "\r",
      " 39%|███▉      | 40/102 [03:44<06:08,  5.95s/it]"
     ]
    },
    {
     "name": "stdout",
     "output_type": "stream",
     "text": [
      "[INFO] 혜인  insert 완료\n"
     ]
    },
    {
     "name": "stderr",
     "output_type": "stream",
     "text": [
      "\r",
      " 40%|████      | 41/102 [03:50<05:59,  5.89s/it]"
     ]
    },
    {
     "name": "stdout",
     "output_type": "stream",
     "text": [
      "[INFO] 홍서범  insert 완료\n"
     ]
    },
    {
     "name": "stderr",
     "output_type": "stream",
     "text": [
      "\r",
      " 41%|████      | 42/102 [03:57<06:02,  6.04s/it]"
     ]
    },
    {
     "name": "stdout",
     "output_type": "stream",
     "text": [
      "[INFO] 황치열  insert 완료\n"
     ]
    },
    {
     "name": "stderr",
     "output_type": "stream",
     "text": [
      "\r",
      " 42%|████▏     | 43/102 [04:02<05:53,  5.99s/it]"
     ]
    },
    {
     "name": "stdout",
     "output_type": "stream",
     "text": [
      "[INFO] 후니정  insert 완료\n"
     ]
    },
    {
     "name": "stderr",
     "output_type": "stream",
     "text": [
      "\r",
      " 43%|████▎     | 44/102 [04:04<04:37,  4.79s/it]"
     ]
    },
    {
     "name": "stdout",
     "output_type": "stream",
     "text": [
      "VIBE url NONE\n"
     ]
    },
    {
     "name": "stderr",
     "output_type": "stream",
     "text": [
      "\r",
      " 44%|████▍     | 45/102 [04:10<04:51,  5.12s/it]"
     ]
    },
    {
     "name": "stdout",
     "output_type": "stream",
     "text": [
      "[INFO] 에미넴  insert 완료\n"
     ]
    },
    {
     "name": "stderr",
     "output_type": "stream",
     "text": [
      "\r",
      " 45%|████▌     | 46/102 [04:16<05:02,  5.41s/it]"
     ]
    },
    {
     "name": "stdout",
     "output_type": "stream",
     "text": [
      "[INFO] 치타  insert 완료\n"
     ]
    },
    {
     "name": "stderr",
     "output_type": "stream",
     "text": [
      "\r",
      " 46%|████▌     | 47/102 [04:23<05:10,  5.64s/it]"
     ]
    },
    {
     "name": "stdout",
     "output_type": "stream",
     "text": [
      "[INFO] 김경록  insert 완료\n"
     ]
    },
    {
     "name": "stderr",
     "output_type": "stream",
     "text": [
      "\r",
      " 47%|████▋     | 48/102 [04:29<05:11,  5.77s/it]"
     ]
    },
    {
     "name": "stdout",
     "output_type": "stream",
     "text": [
      "[INFO] 원펀치  insert 완료\n"
     ]
    },
    {
     "name": "stderr",
     "output_type": "stream",
     "text": [
      "\r",
      " 48%|████▊     | 49/102 [04:35<05:11,  5.88s/it]"
     ]
    },
    {
     "name": "stdout",
     "output_type": "stream",
     "text": [
      "[INFO] 김성재  insert 완료\n"
     ]
    },
    {
     "name": "stderr",
     "output_type": "stream",
     "text": [
      "\r",
      " 49%|████▉     | 50/102 [04:41<05:11,  5.99s/it]"
     ]
    },
    {
     "name": "stdout",
     "output_type": "stream",
     "text": [
      "[INFO] 김용준  insert 완료\n"
     ]
    },
    {
     "name": "stderr",
     "output_type": "stream",
     "text": [
      "\r",
      " 50%|█████     | 51/102 [04:47<05:07,  6.04s/it]"
     ]
    },
    {
     "name": "stdout",
     "output_type": "stream",
     "text": [
      "[INFO] 김원준  insert 완료\n"
     ]
    },
    {
     "name": "stderr",
     "output_type": "stream",
     "text": [
      "\r",
      " 51%|█████     | 52/102 [04:54<05:07,  6.15s/it]"
     ]
    },
    {
     "name": "stdout",
     "output_type": "stream",
     "text": [
      "[INFO] 송하예  insert 완료\n"
     ]
    },
    {
     "name": "stderr",
     "output_type": "stream",
     "text": [
      "\r",
      " 52%|█████▏    | 53/102 [05:01<05:16,  6.46s/it]"
     ]
    },
    {
     "name": "stdout",
     "output_type": "stream",
     "text": [
      "[INFO] 송호범  insert 완료\n"
     ]
    },
    {
     "name": "stderr",
     "output_type": "stream",
     "text": [
      "\r",
      " 53%|█████▎    | 54/102 [05:07<05:06,  6.39s/it]"
     ]
    },
    {
     "name": "stdout",
     "output_type": "stream",
     "text": [
      "[INFO] 스콜피온스  insert 완료\n"
     ]
    },
    {
     "name": "stderr",
     "output_type": "stream",
     "text": [
      "\r",
      " 54%|█████▍    | 55/102 [05:13<04:59,  6.38s/it]"
     ]
    },
    {
     "name": "stdout",
     "output_type": "stream",
     "text": [
      "[INFO] 스테파니  insert 완료\n"
     ]
    },
    {
     "name": "stderr",
     "output_type": "stream",
     "text": [
      "\r",
      " 55%|█████▍    | 56/102 [05:19<04:45,  6.20s/it]"
     ]
    },
    {
     "name": "stdout",
     "output_type": "stream",
     "text": [
      "[INFO] 사이먼 도미닉  insert 완료\n"
     ]
    },
    {
     "name": "stderr",
     "output_type": "stream",
     "text": [
      "\r",
      " 56%|█████▌    | 57/102 [05:25<04:40,  6.23s/it]"
     ]
    },
    {
     "name": "stdout",
     "output_type": "stream",
     "text": [
      "[INFO] 어반자카파  insert 완료\n"
     ]
    },
    {
     "name": "stderr",
     "output_type": "stream",
     "text": [
      "\r",
      " 57%|█████▋    | 58/102 [05:32<04:39,  6.35s/it]"
     ]
    },
    {
     "name": "stdout",
     "output_type": "stream",
     "text": [
      "[INFO] 우희  insert 완료\n"
     ]
    },
    {
     "name": "stderr",
     "output_type": "stream",
     "text": [
      "\r",
      " 58%|█████▊    | 59/102 [05:34<03:42,  5.17s/it]"
     ]
    },
    {
     "name": "stdout",
     "output_type": "stream",
     "text": [
      "VIBE url NONE\n"
     ]
    },
    {
     "name": "stderr",
     "output_type": "stream",
     "text": [
      "\r",
      " 59%|█████▉    | 60/102 [05:41<03:50,  5.50s/it]"
     ]
    },
    {
     "name": "stdout",
     "output_type": "stream",
     "text": [
      "[INFO] 이용  insert 완료\n"
     ]
    },
    {
     "name": "stderr",
     "output_type": "stream",
     "text": [
      "\r",
      " 60%|█████▉    | 61/102 [05:43<03:04,  4.50s/it]"
     ]
    },
    {
     "name": "stdout",
     "output_type": "stream",
     "text": [
      "VIBE url NONE\n"
     ]
    },
    {
     "name": "stderr",
     "output_type": "stream",
     "text": [
      "\r",
      " 61%|██████    | 62/102 [05:49<03:15,  4.90s/it]"
     ]
    },
    {
     "name": "stdout",
     "output_type": "stream",
     "text": [
      "[INFO] 이현도  insert 완료\n"
     ]
    },
    {
     "name": "stderr",
     "output_type": "stream",
     "text": [
      "\r",
      " 62%|██████▏   | 63/102 [05:55<03:28,  5.35s/it]"
     ]
    },
    {
     "name": "stdout",
     "output_type": "stream",
     "text": [
      "[INFO] 자두  insert 완료\n"
     ]
    },
    {
     "name": "stderr",
     "output_type": "stream",
     "text": [
      "\r",
      " 63%|██████▎   | 64/102 [06:01<03:29,  5.52s/it]"
     ]
    },
    {
     "name": "stdout",
     "output_type": "stream",
     "text": [
      "[INFO] 자이언티  insert 완료\n"
     ]
    },
    {
     "name": "stderr",
     "output_type": "stream",
     "text": [
      "\r",
      " 64%|██████▎   | 65/102 [06:07<03:27,  5.60s/it]"
     ]
    },
    {
     "name": "stdout",
     "output_type": "stream",
     "text": [
      "[INFO] 혁오  insert 완료\n"
     ]
    },
    {
     "name": "stderr",
     "output_type": "stream",
     "text": [
      "\r",
      " 65%|██████▍   | 66/102 [06:13<03:31,  5.87s/it]"
     ]
    },
    {
     "name": "stdout",
     "output_type": "stream",
     "text": [
      "[INFO] 장범준  insert 완료\n"
     ]
    },
    {
     "name": "stderr",
     "output_type": "stream",
     "text": [
      "\r",
      " 66%|██████▌   | 67/102 [06:19<03:26,  5.89s/it]"
     ]
    },
    {
     "name": "stdout",
     "output_type": "stream",
     "text": [
      "[INFO] 정재욱  insert 완료\n"
     ]
    },
    {
     "name": "stderr",
     "output_type": "stream",
     "text": [
      "\r",
      " 67%|██████▋   | 68/102 [06:25<03:18,  5.83s/it]"
     ]
    },
    {
     "name": "stdout",
     "output_type": "stream",
     "text": [
      "[INFO] 정재일  insert 완료\n"
     ]
    },
    {
     "name": "stderr",
     "output_type": "stream",
     "text": [
      "\r",
      " 68%|██████▊   | 69/102 [06:27<02:38,  4.80s/it]"
     ]
    },
    {
     "name": "stdout",
     "output_type": "stream",
     "text": [
      "VIBE url NONE\n"
     ]
    },
    {
     "name": "stderr",
     "output_type": "stream",
     "text": [
      "\r",
      " 69%|██████▊   | 70/102 [06:33<02:42,  5.07s/it]"
     ]
    },
    {
     "name": "stdout",
     "output_type": "stream",
     "text": [
      "[INFO] 추가열  insert 완료\n"
     ]
    },
    {
     "name": "stderr",
     "output_type": "stream",
     "text": [
      "\r",
      " 70%|██████▉   | 71/102 [06:39<02:43,  5.28s/it]"
     ]
    },
    {
     "name": "stdout",
     "output_type": "stream",
     "text": [
      "[INFO] 키썸  insert 완료\n"
     ]
    },
    {
     "name": "stderr",
     "output_type": "stream",
     "text": [
      "\r",
      " 71%|███████   | 72/102 [06:45<02:49,  5.66s/it]"
     ]
    },
    {
     "name": "stdout",
     "output_type": "stream",
     "text": [
      "[INFO] 타이거jk  insert 완료\n"
     ]
    },
    {
     "name": "stderr",
     "output_type": "stream",
     "text": [
      "\r",
      " 72%|███████▏  | 73/102 [06:51<02:44,  5.66s/it]"
     ]
    },
    {
     "name": "stdout",
     "output_type": "stream",
     "text": [
      "[INFO] 김지숙  insert 완료\n"
     ]
    },
    {
     "name": "stderr",
     "output_type": "stream",
     "text": [
      "\r",
      " 73%|███████▎  | 74/102 [06:57<02:37,  5.64s/it]"
     ]
    },
    {
     "name": "stdout",
     "output_type": "stream",
     "text": [
      "[INFO] 큐리  insert 완료\n"
     ]
    },
    {
     "name": "stderr",
     "output_type": "stream",
     "text": [
      "\r",
      " 74%|███████▎  | 75/102 [06:59<02:06,  4.68s/it]"
     ]
    },
    {
     "name": "stdout",
     "output_type": "stream",
     "text": [
      "VIBE url NONE\n"
     ]
    },
    {
     "name": "stderr",
     "output_type": "stream",
     "text": [
      "\r",
      " 75%|███████▍  | 76/102 [07:05<02:08,  4.93s/it]"
     ]
    },
    {
     "name": "stdout",
     "output_type": "stream",
     "text": [
      "[INFO] 선예  insert 완료\n"
     ]
    },
    {
     "name": "stderr",
     "output_type": "stream",
     "text": [
      "\r",
      " 75%|███████▌  | 77/102 [07:07<01:45,  4.20s/it]"
     ]
    },
    {
     "name": "stdout",
     "output_type": "stream",
     "text": [
      "VIBE url NONE\n"
     ]
    },
    {
     "name": "stderr",
     "output_type": "stream",
     "text": [
      "\r",
      " 76%|███████▋  | 78/102 [07:13<01:51,  4.66s/it]"
     ]
    },
    {
     "name": "stdout",
     "output_type": "stream",
     "text": [
      "[INFO] 제아  insert 완료\n"
     ]
    },
    {
     "name": "stderr",
     "output_type": "stream",
     "text": [
      "\r",
      " 77%|███████▋  | 79/102 [07:18<01:53,  4.95s/it]"
     ]
    },
    {
     "name": "stdout",
     "output_type": "stream",
     "text": [
      "[INFO] 가희  insert 완료\n"
     ]
    },
    {
     "name": "stderr",
     "output_type": "stream",
     "text": [
      "\r",
      " 78%|███████▊  | 80/102 [07:24<01:52,  5.11s/it]"
     ]
    },
    {
     "name": "stdout",
     "output_type": "stream",
     "text": [
      "[INFO] 지헤라  insert 완료\n"
     ]
    },
    {
     "name": "stderr",
     "output_type": "stream",
     "text": [
      "\r",
      " 79%|███████▉  | 81/102 [07:26<01:30,  4.29s/it]"
     ]
    },
    {
     "name": "stdout",
     "output_type": "stream",
     "text": [
      "VIBE url NONE\n"
     ]
    },
    {
     "name": "stderr",
     "output_type": "stream",
     "text": [
      "\r",
      " 80%|████████  | 82/102 [07:32<01:34,  4.71s/it]"
     ]
    },
    {
     "name": "stdout",
     "output_type": "stream",
     "text": [
      "[INFO] 지누  insert 완료\n"
     ]
    },
    {
     "name": "stderr",
     "output_type": "stream",
     "text": [
      "\r",
      " 81%|████████▏ | 83/102 [07:38<01:35,  5.01s/it]"
     ]
    },
    {
     "name": "stdout",
     "output_type": "stream",
     "text": [
      "[INFO] 투컷  insert 완료\n"
     ]
    },
    {
     "name": "stderr",
     "output_type": "stream",
     "text": [
      "\r",
      " 82%|████████▏ | 84/102 [07:43<01:33,  5.18s/it]"
     ]
    },
    {
     "name": "stdout",
     "output_type": "stream",
     "text": [
      "[INFO] 남태현  insert 완료\n"
     ]
    },
    {
     "name": "stderr",
     "output_type": "stream",
     "text": [
      "\r",
      " 83%|████████▎ | 85/102 [07:46<01:13,  4.33s/it]"
     ]
    },
    {
     "name": "stdout",
     "output_type": "stream",
     "text": [
      "VIBE url NONE\n"
     ]
    },
    {
     "name": "stderr",
     "output_type": "stream",
     "text": [
      "\r",
      " 84%|████████▍ | 86/102 [07:52<01:16,  4.81s/it]"
     ]
    },
    {
     "name": "stdout",
     "output_type": "stream",
     "text": [
      "[INFO] 김진우  insert 완료\n"
     ]
    },
    {
     "name": "stderr",
     "output_type": "stream",
     "text": [
      "\r",
      " 85%|████████▌ | 87/102 [07:57<01:15,  5.05s/it]"
     ]
    },
    {
     "name": "stdout",
     "output_type": "stream",
     "text": [
      "[INFO] 마스터 우  insert 완료\n"
     ]
    },
    {
     "name": "stderr",
     "output_type": "stream",
     "text": [
      "\r",
      " 86%|████████▋ | 88/102 [08:00<00:59,  4.27s/it]"
     ]
    },
    {
     "name": "stdout",
     "output_type": "stream",
     "text": [
      "VIBE url NONE\n"
     ]
    },
    {
     "name": "stderr",
     "output_type": "stream",
     "text": [
      "\r",
      " 87%|████████▋ | 89/102 [08:06<01:05,  5.01s/it]"
     ]
    },
    {
     "name": "stdout",
     "output_type": "stream",
     "text": [
      "[INFO] 지수  insert 완료\n"
     ]
    },
    {
     "name": "stderr",
     "output_type": "stream",
     "text": [
      "\r",
      " 88%|████████▊ | 90/102 [08:13<01:04,  5.36s/it]"
     ]
    },
    {
     "name": "stdout",
     "output_type": "stream",
     "text": [
      "[INFO] 아이콘  insert 완료\n"
     ]
    },
    {
     "name": "stderr",
     "output_type": "stream",
     "text": [
      "\r",
      " 89%|████████▉ | 91/102 [08:18<01:00,  5.46s/it]"
     ]
    },
    {
     "name": "stdout",
     "output_type": "stream",
     "text": [
      "[INFO] 이주노  insert 완료\n"
     ]
    },
    {
     "name": "stderr",
     "output_type": "stream",
     "text": [
      "\r",
      " 90%|█████████ | 92/102 [08:24<00:55,  5.51s/it]"
     ]
    },
    {
     "name": "stdout",
     "output_type": "stream",
     "text": [
      "[INFO] 문명진  insert 완료\n"
     ]
    },
    {
     "name": "stderr",
     "output_type": "stream",
     "text": [
      "\r",
      " 91%|█████████ | 93/102 [08:26<00:41,  4.58s/it]"
     ]
    },
    {
     "name": "stdout",
     "output_type": "stream",
     "text": [
      "VIBE url NONE\n"
     ]
    },
    {
     "name": "stderr",
     "output_type": "stream",
     "text": [
      "\r",
      " 92%|█████████▏| 94/102 [08:32<00:39,  4.93s/it]"
     ]
    },
    {
     "name": "stdout",
     "output_type": "stream",
     "text": [
      "[INFO] 진영  insert 완료\n"
     ]
    },
    {
     "name": "stderr",
     "output_type": "stream",
     "text": [
      "\r",
      " 93%|█████████▎| 95/102 [08:38<00:35,  5.14s/it]"
     ]
    },
    {
     "name": "stdout",
     "output_type": "stream",
     "text": [
      "[INFO] JB  insert 완료\n"
     ]
    },
    {
     "name": "stderr",
     "output_type": "stream",
     "text": [
      "\r",
      " 94%|█████████▍| 96/102 [08:43<00:31,  5.31s/it]"
     ]
    },
    {
     "name": "stdout",
     "output_type": "stream",
     "text": [
      "[INFO] 핫펠트  insert 완료\n"
     ]
    },
    {
     "name": "stderr",
     "output_type": "stream",
     "text": [
      "\r",
      " 95%|█████████▌| 97/102 [08:46<00:22,  4.43s/it]"
     ]
    },
    {
     "name": "stdout",
     "output_type": "stream",
     "text": [
      "VIBE url NONE\n"
     ]
    },
    {
     "name": "stderr",
     "output_type": "stream",
     "text": [
      "\r",
      " 96%|█████████▌| 98/102 [08:52<00:20,  5.03s/it]"
     ]
    },
    {
     "name": "stdout",
     "output_type": "stream",
     "text": [
      "[INFO] 혜림  insert 완료\n"
     ]
    },
    {
     "name": "stderr",
     "output_type": "stream",
     "text": [
      "\r",
      " 97%|█████████▋| 99/102 [08:58<00:16,  5.37s/it]"
     ]
    },
    {
     "name": "stdout",
     "output_type": "stream",
     "text": [
      "[INFO] 준호  insert 완료\n"
     ]
    },
    {
     "name": "stderr",
     "output_type": "stream",
     "text": [
      "\r",
      " 98%|█████████▊| 100/102 [09:04<00:10,  5.46s/it]"
     ]
    },
    {
     "name": "stdout",
     "output_type": "stream",
     "text": [
      "[INFO] 이창민  insert 완료\n"
     ]
    },
    {
     "name": "stderr",
     "output_type": "stream",
     "text": [
      "\r",
      " 99%|█████████▉| 101/102 [09:07<00:04,  4.60s/it]"
     ]
    },
    {
     "name": "stdout",
     "output_type": "stream",
     "text": [
      "VIBE url NONE\n"
     ]
    },
    {
     "name": "stderr",
     "output_type": "stream",
     "text": [
      "100%|██████████| 102/102 [09:13<00:00,  5.43s/it]"
     ]
    },
    {
     "name": "stdout",
     "output_type": "stream",
     "text": [
      "[INFO] 찬성  insert 완료\n"
     ]
    },
    {
     "name": "stderr",
     "output_type": "stream",
     "text": [
      "\n"
     ]
    }
   ],
   "source": [
    "chrome_options = webdriver.ChromeOptions()\n",
    "#chrome_options.add_argument('--headless')\n",
    "driver = webdriver.Chrome(ChromeDriverManager().install(), options=chrome_options)\n",
    "\n",
    "number = int(input(\"vibeCd 수집할 개체 수 입력 :\"))\n",
    "ex = final[0:number]\n",
    "\n",
    "for i in tqdm(ex) :\n",
    "    conn, engine = db_connection()\n",
    "    cursor = conn.cursor(pymysql.cursors.DictCursor)\n",
    "    \n",
    "    #vibeCd = ''\n",
    "    \n",
    "    qry = f'SELECT * FROM star_ko_profile_url WHERE series_id={i}'\n",
    "    profileData = pd.read_sql(qry, con=conn)\n",
    "    \n",
    "    series_id = name = naver_url = vibe_url = ''\n",
    "    \n",
    "    series_id = profileData['series_id'][0]\n",
    "    name = profileData['name'][0]\n",
    "    naver_url = profileData['naver_url'][0]\n",
    "    \n",
    "    naver_html = requests.get(naver_url).text\n",
    "    time.sleep(0.5)\n",
    "    naver_soup = BeautifulSoup(naver_html, 'html.parser')\n",
    "    time.sleep(0.5)\n",
    "    \n",
    "    # VIBE url 찾기\n",
    "    try :\n",
    "        tit = naver_soup.select('a[class=tit]')\n",
    "\n",
    "        for t in tit :\n",
    "            if 'vibe' in t.get('href') :\n",
    "                vibe_url = t.get('href')\n",
    "\n",
    "        driver.get(vibe_url)\n",
    "        time.sleep(3)\n",
    "        try :\n",
    "            driver.find_element_by_xpath('//*[@id=\"app\"]/div[2]/div/div/a[2]').click()\n",
    "        except :\n",
    "            pass\n",
    "\n",
    "        html = driver.page_source\n",
    "        soup = BeautifulSoup(html, 'html.parser')\n",
    "\n",
    "        #time.sleep(3)\n",
    "\n",
    "        # VIBE key 값\n",
    "        #vibeCd = ''\n",
    "        vibeCd = soup.select('a[class=link_sub_title]')[0].get('href')\n",
    "        vibeCd = re.findall(\"\\d+\", vibeCd)[0]\n",
    "\n",
    "        qry = f\"INSERT into star_album_genre (series_id, vibeCd, name) VALUES ({series_id}, {vibeCd}, '{name}')\"\n",
    "        cursor.execute(qry)\n",
    "        conn.commit()\n",
    "        print(\"[INFO]\", name, \" insert 완료\")\n",
    "        \n",
    "    except :\n",
    "        print(\"VIBE url NONE\")\n",
    "        \n",
    "        qry = f\"INSERT into star_album_genre (series_id, name) VALUES ({series_id}, '{name}')\"\n",
    "        cursor.execute(qry)\n",
    "        conn.commit()\n",
    "\n",
    "    \n",
    "conn.close()\n",
    "driver.close()"
   ]
  },
  {
   "cell_type": "markdown",
   "id": "e203e9de",
   "metadata": {},
   "source": [
    "## 1.1 수기 매핑 (중복값 & null 값)"
   ]
  },
  {
   "cell_type": "code",
   "execution_count": 607,
   "id": "ebf58e27",
   "metadata": {},
   "outputs": [],
   "source": [
    "conn, engine = db_connection()\n",
    "\n",
    "qry = f'SELECT * FROM star_album_genre WHERE vibeCd is NULL'\n",
    "nullData = pd.read_sql(qry, con=conn)\n",
    "nullData_list = nullData['series_id'].to_list()"
   ]
  },
  {
   "cell_type": "code",
   "execution_count": 608,
   "id": "c4890ff4",
   "metadata": {},
   "outputs": [],
   "source": [
    "qry = f'SELECT * FROM star_album_genre GROUP BY vibeCd HAVING COUNT(vibeCd) > 1'\n",
    "dupData = pd.read_sql(qry, con=conn)\n",
    "dupData_list = dupData['series_id'].to_list()"
   ]
  },
  {
   "cell_type": "code",
   "execution_count": 609,
   "id": "079a3c01",
   "metadata": {},
   "outputs": [
    {
     "name": "stdout",
     "output_type": "stream",
     "text": [
      "nullData_list :  199 dupData_list :  272 합 :  471\n"
     ]
    }
   ],
   "source": [
    "handmapping = []\n",
    "\n",
    "handmapping = nullData_list + dupData_list\n",
    "print(\"nullData_list : \", len(nullData_list), \"dupData_list : \", len(dupData_list), \"합 : \", len(handmapping))"
   ]
  },
  {
   "cell_type": "code",
   "execution_count": 610,
   "id": "16d633ab",
   "metadata": {},
   "outputs": [],
   "source": [
    "conn.close()"
   ]
  },
  {
   "cell_type": "code",
   "execution_count": 584,
   "id": "0954c2c2",
   "metadata": {},
   "outputs": [
    {
     "name": "stderr",
     "output_type": "stream",
     "text": [
      "\n",
      "\n",
      "====== WebDriver manager ======\n",
      "Current google-chrome version is 91.0.4472\n",
      "Get LATEST driver version for 91.0.4472\n",
      "Driver [/Users/jieun/.wdm/drivers/chromedriver/mac64/91.0.4472.101/chromedriver] found in cache\n",
      "\n",
      "\n",
      "====== WebDriver manager ======\n",
      "Current google-chrome version is 91.0.4472\n",
      "Get LATEST driver version for 91.0.4472\n",
      "Driver [/Users/jieun/.wdm/drivers/chromedriver/mac64/91.0.4472.101/chromedriver] found in cache\n",
      "  0%|          | 0/467 [00:00<?, ?it/s]"
     ]
    },
    {
     "data": {
      "text/html": [
       "<div>\n",
       "<style scoped>\n",
       "    .dataframe tbody tr th:only-of-type {\n",
       "        vertical-align: middle;\n",
       "    }\n",
       "\n",
       "    .dataframe tbody tr th {\n",
       "        vertical-align: top;\n",
       "    }\n",
       "\n",
       "    .dataframe thead th {\n",
       "        text-align: right;\n",
       "    }\n",
       "</style>\n",
       "<table border=\"1\" class=\"dataframe\">\n",
       "  <thead>\n",
       "    <tr style=\"text-align: right;\">\n",
       "      <th></th>\n",
       "      <th>series_id</th>\n",
       "      <th>cd_name</th>\n",
       "      <th>cd_real_name</th>\n",
       "      <th>cd_category</th>\n",
       "      <th>cd_gender</th>\n",
       "      <th>cd_solr_search</th>\n",
       "      <th>cd_height</th>\n",
       "      <th>cd_weight</th>\n",
       "      <th>cd_birth</th>\n",
       "      <th>cd_agency</th>\n",
       "      <th>cd_debut</th>\n",
       "      <th>cd_academic</th>\n",
       "      <th>cd_career</th>\n",
       "      <th>cd_award</th>\n",
       "    </tr>\n",
       "  </thead>\n",
       "  <tbody>\n",
       "    <tr>\n",
       "      <th>0</th>\n",
       "      <td>1812</td>\n",
       "      <td>임선영</td>\n",
       "      <td></td>\n",
       "      <td>가수</td>\n",
       "      <td>여자</td>\n",
       "      <td>(content_all:(\"Y미디어 임선영\"~10 OR \"가수 임선영\"~10))</td>\n",
       "      <td>174</td>\n",
       "      <td>49</td>\n",
       "      <td>1983-02-23</td>\n",
       "      <td>Y미디어</td>\n",
       "      <td>2001년 거북이 1집 앨범 'Go Boogie'</td>\n",
       "      <td>수원대학교 연극영화학과</td>\n",
       "      <td></td>\n",
       "      <td></td>\n",
       "    </tr>\n",
       "  </tbody>\n",
       "</table>\n",
       "</div>"
      ],
      "text/plain": [
       "   series_id cd_name cd_real_name cd_category cd_gender  \\\n",
       "0       1812     임선영                       가수        여자   \n",
       "\n",
       "                                 cd_solr_search  cd_height  cd_weight  \\\n",
       "0  (content_all:(\"Y미디어 임선영\"~10 OR \"가수 임선영\"~10))        174         49   \n",
       "\n",
       "    cd_birth cd_agency                     cd_debut   cd_academic cd_career  \\\n",
       "0 1983-02-23      Y미디어  2001년 거북이 1집 앨범 'Go Boogie'  수원대학교 연극영화학과             \n",
       "\n",
       "  cd_award  \n",
       "0           "
      ]
     },
     "metadata": {},
     "output_type": "display_data"
    },
    {
     "name": "stdout",
     "output_type": "stream",
     "text": [
      "vibeCd를 입력하세요. 3067344\n"
     ]
    },
    {
     "name": "stderr",
     "output_type": "stream",
     "text": [
      "\r",
      "  0%|          | 1/467 [00:28<3:45:12, 29.00s/it]"
     ]
    },
    {
     "data": {
      "text/html": [
       "<div>\n",
       "<style scoped>\n",
       "    .dataframe tbody tr th:only-of-type {\n",
       "        vertical-align: middle;\n",
       "    }\n",
       "\n",
       "    .dataframe tbody tr th {\n",
       "        vertical-align: top;\n",
       "    }\n",
       "\n",
       "    .dataframe thead th {\n",
       "        text-align: right;\n",
       "    }\n",
       "</style>\n",
       "<table border=\"1\" class=\"dataframe\">\n",
       "  <thead>\n",
       "    <tr style=\"text-align: right;\">\n",
       "      <th></th>\n",
       "      <th>series_id</th>\n",
       "      <th>cd_name</th>\n",
       "      <th>cd_real_name</th>\n",
       "      <th>cd_category</th>\n",
       "      <th>cd_gender</th>\n",
       "      <th>cd_solr_search</th>\n",
       "      <th>cd_height</th>\n",
       "      <th>cd_weight</th>\n",
       "      <th>cd_birth</th>\n",
       "      <th>cd_agency</th>\n",
       "      <th>cd_debut</th>\n",
       "      <th>cd_academic</th>\n",
       "      <th>cd_career</th>\n",
       "      <th>cd_award</th>\n",
       "    </tr>\n",
       "  </thead>\n",
       "  <tbody>\n",
       "    <tr>\n",
       "      <th>0</th>\n",
       "      <td>1814</td>\n",
       "      <td>임세준</td>\n",
       "      <td></td>\n",
       "      <td>가수</td>\n",
       "      <td>남자</td>\n",
       "      <td>(content_all:(title:\"임세준\" AND \"기자\" AND (\"가수 임세...</td>\n",
       "      <td>175</td>\n",
       "      <td>68</td>\n",
       "      <td>1989-07-18</td>\n",
       "      <td>도우즈 레코즈</td>\n",
       "      <td>2012년 싱글 앨범 'To Love Somebody'</td>\n",
       "      <td>서울예술대학교 실용음악과</td>\n",
       "      <td></td>\n",
       "      <td></td>\n",
       "    </tr>\n",
       "  </tbody>\n",
       "</table>\n",
       "</div>"
      ],
      "text/plain": [
       "   series_id cd_name cd_real_name cd_category cd_gender  \\\n",
       "0       1814     임세준                       가수        남자   \n",
       "\n",
       "                                      cd_solr_search  cd_height  cd_weight  \\\n",
       "0  (content_all:(title:\"임세준\" AND \"기자\" AND (\"가수 임세...        175         68   \n",
       "\n",
       "    cd_birth cd_agency                        cd_debut    cd_academic  \\\n",
       "0 1989-07-18   도우즈 레코즈  2012년 싱글 앨범 'To Love Somebody'  서울예술대학교 실용음악과   \n",
       "\n",
       "  cd_career cd_award  \n",
       "0                     "
      ]
     },
     "metadata": {},
     "output_type": "display_data"
    },
    {
     "name": "stdout",
     "output_type": "stream",
     "text": [
      "vibeCd를 입력하세요. 171332\n"
     ]
    },
    {
     "name": "stderr",
     "output_type": "stream",
     "text": [
      "\r",
      "  0%|          | 2/467 [00:38<2:13:59, 17.29s/it]"
     ]
    },
    {
     "data": {
      "text/html": [
       "<div>\n",
       "<style scoped>\n",
       "    .dataframe tbody tr th:only-of-type {\n",
       "        vertical-align: middle;\n",
       "    }\n",
       "\n",
       "    .dataframe tbody tr th {\n",
       "        vertical-align: top;\n",
       "    }\n",
       "\n",
       "    .dataframe thead th {\n",
       "        text-align: right;\n",
       "    }\n",
       "</style>\n",
       "<table border=\"1\" class=\"dataframe\">\n",
       "  <thead>\n",
       "    <tr style=\"text-align: right;\">\n",
       "      <th></th>\n",
       "      <th>series_id</th>\n",
       "      <th>cd_name</th>\n",
       "      <th>cd_real_name</th>\n",
       "      <th>cd_category</th>\n",
       "      <th>cd_gender</th>\n",
       "      <th>cd_solr_search</th>\n",
       "      <th>cd_height</th>\n",
       "      <th>cd_weight</th>\n",
       "      <th>cd_birth</th>\n",
       "      <th>cd_agency</th>\n",
       "      <th>cd_debut</th>\n",
       "      <th>cd_academic</th>\n",
       "      <th>cd_career</th>\n",
       "      <th>cd_award</th>\n",
       "    </tr>\n",
       "  </thead>\n",
       "  <tbody>\n",
       "    <tr>\n",
       "      <th>0</th>\n",
       "      <td>1816</td>\n",
       "      <td>임수정</td>\n",
       "      <td></td>\n",
       "      <td>가수,모델</td>\n",
       "      <td>여자</td>\n",
       "      <td>(content_all:(title:\"임수정\"AND\"기자\" AND(\"가수 임수정\" ...</td>\n",
       "      <td>162</td>\n",
       "      <td>45</td>\n",
       "      <td>1963-10-08</td>\n",
       "      <td></td>\n",
       "      <td>1982년 드라마 OST '연인들의 이야기'</td>\n",
       "      <td>정읍여자고등학교</td>\n",
       "      <td></td>\n",
       "      <td></td>\n",
       "    </tr>\n",
       "  </tbody>\n",
       "</table>\n",
       "</div>"
      ],
      "text/plain": [
       "   series_id cd_name cd_real_name cd_category cd_gender  \\\n",
       "0       1816     임수정                    가수,모델        여자   \n",
       "\n",
       "                                      cd_solr_search  cd_height  cd_weight  \\\n",
       "0  (content_all:(title:\"임수정\"AND\"기자\" AND(\"가수 임수정\" ...        162         45   \n",
       "\n",
       "    cd_birth cd_agency                  cd_debut cd_academic cd_career  \\\n",
       "0 1963-10-08            1982년 드라마 OST '연인들의 이야기'    정읍여자고등학교             \n",
       "\n",
       "  cd_award  \n",
       "0           "
      ]
     },
     "metadata": {},
     "output_type": "display_data"
    },
    {
     "name": "stdout",
     "output_type": "stream",
     "text": [
      "vibeCd를 입력하세요. 10027\n"
     ]
    },
    {
     "name": "stderr",
     "output_type": "stream",
     "text": [
      "\r",
      "  1%|          | 3/467 [00:50<1:55:24, 14.92s/it]"
     ]
    },
    {
     "data": {
      "text/html": [
       "<div>\n",
       "<style scoped>\n",
       "    .dataframe tbody tr th:only-of-type {\n",
       "        vertical-align: middle;\n",
       "    }\n",
       "\n",
       "    .dataframe tbody tr th {\n",
       "        vertical-align: top;\n",
       "    }\n",
       "\n",
       "    .dataframe thead th {\n",
       "        text-align: right;\n",
       "    }\n",
       "</style>\n",
       "<table border=\"1\" class=\"dataframe\">\n",
       "  <thead>\n",
       "    <tr style=\"text-align: right;\">\n",
       "      <th></th>\n",
       "      <th>series_id</th>\n",
       "      <th>cd_name</th>\n",
       "      <th>cd_real_name</th>\n",
       "      <th>cd_category</th>\n",
       "      <th>cd_gender</th>\n",
       "      <th>cd_solr_search</th>\n",
       "      <th>cd_height</th>\n",
       "      <th>cd_weight</th>\n",
       "      <th>cd_birth</th>\n",
       "      <th>cd_agency</th>\n",
       "      <th>cd_debut</th>\n",
       "      <th>cd_academic</th>\n",
       "      <th>cd_career</th>\n",
       "      <th>cd_award</th>\n",
       "    </tr>\n",
       "  </thead>\n",
       "  <tbody>\n",
       "    <tr>\n",
       "      <th>0</th>\n",
       "      <td>1819</td>\n",
       "      <td>나영</td>\n",
       "      <td></td>\n",
       "      <td>가수</td>\n",
       "      <td>여자</td>\n",
       "      <td>(content_all:((title:\"나영\" title:\"김나영\") AND typ...</td>\n",
       "      <td>155</td>\n",
       "      <td>43</td>\n",
       "      <td>0000-00-00 00:00:00</td>\n",
       "      <td>큐브엔터테인먼트</td>\n",
       "      <td></td>\n",
       "      <td></td>\n",
       "      <td></td>\n",
       "      <td></td>\n",
       "    </tr>\n",
       "  </tbody>\n",
       "</table>\n",
       "</div>"
      ],
      "text/plain": [
       "   series_id cd_name cd_real_name cd_category cd_gender  \\\n",
       "0       1819      나영                       가수        여자   \n",
       "\n",
       "                                      cd_solr_search  cd_height  cd_weight  \\\n",
       "0  (content_all:((title:\"나영\" title:\"김나영\") AND typ...        155         43   \n",
       "\n",
       "              cd_birth cd_agency cd_debut cd_academic cd_career cd_award  \n",
       "0  0000-00-00 00:00:00  큐브엔터테인먼트                                          "
      ]
     },
     "metadata": {},
     "output_type": "display_data"
    },
    {
     "name": "stdout",
     "output_type": "stream",
     "text": [
      "vibeCd를 입력하세요. \n"
     ]
    },
    {
     "name": "stderr",
     "output_type": "stream",
     "text": [
      "\r",
      "  1%|          | 4/467 [00:57<1:30:52, 11.78s/it]"
     ]
    },
    {
     "data": {
      "text/html": [
       "<div>\n",
       "<style scoped>\n",
       "    .dataframe tbody tr th:only-of-type {\n",
       "        vertical-align: middle;\n",
       "    }\n",
       "\n",
       "    .dataframe tbody tr th {\n",
       "        vertical-align: top;\n",
       "    }\n",
       "\n",
       "    .dataframe thead th {\n",
       "        text-align: right;\n",
       "    }\n",
       "</style>\n",
       "<table border=\"1\" class=\"dataframe\">\n",
       "  <thead>\n",
       "    <tr style=\"text-align: right;\">\n",
       "      <th></th>\n",
       "      <th>series_id</th>\n",
       "      <th>cd_name</th>\n",
       "      <th>cd_real_name</th>\n",
       "      <th>cd_category</th>\n",
       "      <th>cd_gender</th>\n",
       "      <th>cd_solr_search</th>\n",
       "      <th>cd_height</th>\n",
       "      <th>cd_weight</th>\n",
       "      <th>cd_birth</th>\n",
       "      <th>cd_agency</th>\n",
       "      <th>cd_debut</th>\n",
       "      <th>cd_academic</th>\n",
       "      <th>cd_career</th>\n",
       "      <th>cd_award</th>\n",
       "    </tr>\n",
       "  </thead>\n",
       "  <tbody>\n",
       "    <tr>\n",
       "      <th>0</th>\n",
       "      <td>1821</td>\n",
       "      <td>임태경</td>\n",
       "      <td></td>\n",
       "      <td>배우,가수</td>\n",
       "      <td>남자</td>\n",
       "      <td>(content_all:(\"배우 임태경\"~10 OR \"뮤지컬배우 임태경\"~10 OR...</td>\n",
       "      <td>None</td>\n",
       "      <td>None</td>\n",
       "      <td>1973-07-04</td>\n",
       "      <td></td>\n",
       "      <td>2004년 1집 앨범 'Sentimental Journ</td>\n",
       "      <td>보스턴 대학교 대학원 성악학과 외 3건</td>\n",
       "      <td></td>\n",
       "      <td></td>\n",
       "    </tr>\n",
       "  </tbody>\n",
       "</table>\n",
       "</div>"
      ],
      "text/plain": [
       "   series_id cd_name cd_real_name cd_category cd_gender  \\\n",
       "0       1821     임태경                    배우,가수        남자   \n",
       "\n",
       "                                      cd_solr_search cd_height cd_weight  \\\n",
       "0  (content_all:(\"배우 임태경\"~10 OR \"뮤지컬배우 임태경\"~10 OR...      None      None   \n",
       "\n",
       "    cd_birth cd_agency                        cd_debut            cd_academic  \\\n",
       "0 1973-07-04            2004년 1집 앨범 'Sentimental Journ  보스턴 대학교 대학원 성악학과 외 3건   \n",
       "\n",
       "  cd_career cd_award  \n",
       "0                     "
      ]
     },
     "metadata": {},
     "output_type": "display_data"
    },
    {
     "name": "stdout",
     "output_type": "stream",
     "text": [
      "vibeCd를 입력하세요. 10120\n"
     ]
    },
    {
     "name": "stderr",
     "output_type": "stream",
     "text": [
      "\r",
      "  1%|          | 5/467 [01:09<1:32:48, 12.05s/it]"
     ]
    },
    {
     "data": {
      "text/html": [
       "<div>\n",
       "<style scoped>\n",
       "    .dataframe tbody tr th:only-of-type {\n",
       "        vertical-align: middle;\n",
       "    }\n",
       "\n",
       "    .dataframe tbody tr th {\n",
       "        vertical-align: top;\n",
       "    }\n",
       "\n",
       "    .dataframe thead th {\n",
       "        text-align: right;\n",
       "    }\n",
       "</style>\n",
       "<table border=\"1\" class=\"dataframe\">\n",
       "  <thead>\n",
       "    <tr style=\"text-align: right;\">\n",
       "      <th></th>\n",
       "      <th>series_id</th>\n",
       "      <th>cd_name</th>\n",
       "      <th>cd_real_name</th>\n",
       "      <th>cd_category</th>\n",
       "      <th>cd_gender</th>\n",
       "      <th>cd_solr_search</th>\n",
       "      <th>cd_height</th>\n",
       "      <th>cd_weight</th>\n",
       "      <th>cd_birth</th>\n",
       "      <th>cd_agency</th>\n",
       "      <th>cd_debut</th>\n",
       "      <th>cd_academic</th>\n",
       "      <th>cd_career</th>\n",
       "      <th>cd_award</th>\n",
       "    </tr>\n",
       "  </thead>\n",
       "  <tbody>\n",
       "    <tr>\n",
       "      <th>0</th>\n",
       "      <td>1823</td>\n",
       "      <td>임현식</td>\n",
       "      <td></td>\n",
       "      <td>가수</td>\n",
       "      <td>남자</td>\n",
       "      <td>(content_all:((title:\"임현식\" title:\"현식\") AND typ...</td>\n",
       "      <td>177</td>\n",
       "      <td>66</td>\n",
       "      <td>1992-03-07</td>\n",
       "      <td>큐브엔터테인먼트</td>\n",
       "      <td>2012년 비투비 싱글 앨범 [비밀]</td>\n",
       "      <td>호원대학교 실용음악학과</td>\n",
       "      <td></td>\n",
       "      <td></td>\n",
       "    </tr>\n",
       "  </tbody>\n",
       "</table>\n",
       "</div>"
      ],
      "text/plain": [
       "   series_id cd_name cd_real_name cd_category cd_gender  \\\n",
       "0       1823     임현식                       가수        남자   \n",
       "\n",
       "                                      cd_solr_search  cd_height  cd_weight  \\\n",
       "0  (content_all:((title:\"임현식\" title:\"현식\") AND typ...        177         66   \n",
       "\n",
       "    cd_birth cd_agency              cd_debut   cd_academic cd_career cd_award  \n",
       "0 1992-03-07  큐브엔터테인먼트  2012년 비투비 싱글 앨범 [비밀]  호원대학교 실용음악학과                     "
      ]
     },
     "metadata": {},
     "output_type": "display_data"
    },
    {
     "name": "stdout",
     "output_type": "stream",
     "text": [
      "vibeCd를 입력하세요. 214557\n"
     ]
    },
    {
     "name": "stderr",
     "output_type": "stream",
     "text": [
      "\r",
      "  1%|▏         | 6/467 [01:20<1:30:00, 11.72s/it]"
     ]
    },
    {
     "data": {
      "text/html": [
       "<div>\n",
       "<style scoped>\n",
       "    .dataframe tbody tr th:only-of-type {\n",
       "        vertical-align: middle;\n",
       "    }\n",
       "\n",
       "    .dataframe tbody tr th {\n",
       "        vertical-align: top;\n",
       "    }\n",
       "\n",
       "    .dataframe thead th {\n",
       "        text-align: right;\n",
       "    }\n",
       "</style>\n",
       "<table border=\"1\" class=\"dataframe\">\n",
       "  <thead>\n",
       "    <tr style=\"text-align: right;\">\n",
       "      <th></th>\n",
       "      <th>series_id</th>\n",
       "      <th>cd_name</th>\n",
       "      <th>cd_real_name</th>\n",
       "      <th>cd_category</th>\n",
       "      <th>cd_gender</th>\n",
       "      <th>cd_solr_search</th>\n",
       "      <th>cd_height</th>\n",
       "      <th>cd_weight</th>\n",
       "      <th>cd_birth</th>\n",
       "      <th>cd_agency</th>\n",
       "      <th>cd_debut</th>\n",
       "      <th>cd_academic</th>\n",
       "      <th>cd_career</th>\n",
       "      <th>cd_award</th>\n",
       "    </tr>\n",
       "  </thead>\n",
       "  <tbody>\n",
       "    <tr>\n",
       "      <th>0</th>\n",
       "      <td>1830</td>\n",
       "      <td>장석현</td>\n",
       "      <td></td>\n",
       "      <td>가수,배우</td>\n",
       "      <td>남자</td>\n",
       "      <td>(content_all:(\"영화배우 장석현\"~10 OR \"배우 장석현\"~10 OR ...</td>\n",
       "      <td>178</td>\n",
       "      <td>70</td>\n",
       "      <td>1980-10-26</td>\n",
       "      <td>EPP미디어</td>\n",
       "      <td>1998년 샵 1집 앨범 'The Sharp'</td>\n",
       "      <td>동아방송대학 방송연예과</td>\n",
       "      <td></td>\n",
       "      <td></td>\n",
       "    </tr>\n",
       "  </tbody>\n",
       "</table>\n",
       "</div>"
      ],
      "text/plain": [
       "   series_id cd_name cd_real_name cd_category cd_gender  \\\n",
       "0       1830     장석현                    가수,배우        남자   \n",
       "\n",
       "                                      cd_solr_search  cd_height  cd_weight  \\\n",
       "0  (content_all:(\"영화배우 장석현\"~10 OR \"배우 장석현\"~10 OR ...        178         70   \n",
       "\n",
       "    cd_birth cd_agency                   cd_debut   cd_academic cd_career  \\\n",
       "0 1980-10-26    EPP미디어  1998년 샵 1집 앨범 'The Sharp'  동아방송대학 방송연예과             \n",
       "\n",
       "  cd_award  \n",
       "0           "
      ]
     },
     "metadata": {},
     "output_type": "display_data"
    },
    {
     "name": "stderr",
     "output_type": "stream",
     "text": [
      "  1%|▏         | 6/467 [02:18<2:57:25, 23.09s/it]\n"
     ]
    },
    {
     "ename": "KeyboardInterrupt",
     "evalue": "Interrupted by user",
     "output_type": "error",
     "traceback": [
      "\u001b[0;31m---------------------------------------------------------------------------\u001b[0m",
      "\u001b[0;31mKeyboardInterrupt\u001b[0m                         Traceback (most recent call last)",
      "\u001b[0;32m<ipython-input-584-b82d5a88e56f>\u001b[0m in \u001b[0;36m<module>\u001b[0;34m\u001b[0m\n\u001b[1;32m     29\u001b[0m         \u001b[0;32mpass\u001b[0m\u001b[0;34m\u001b[0m\u001b[0;34m\u001b[0m\u001b[0m\n\u001b[1;32m     30\u001b[0m \u001b[0;34m\u001b[0m\u001b[0m\n\u001b[0;32m---> 31\u001b[0;31m     \u001b[0mvibe\u001b[0m \u001b[0;34m=\u001b[0m \u001b[0minput\u001b[0m\u001b[0;34m(\u001b[0m\u001b[0;34m\"vibeCd를 입력하세요. \"\u001b[0m\u001b[0;34m)\u001b[0m\u001b[0;34m\u001b[0m\u001b[0;34m\u001b[0m\u001b[0m\n\u001b[0m\u001b[1;32m     32\u001b[0m \u001b[0;34m\u001b[0m\u001b[0m\n\u001b[1;32m     33\u001b[0m     \u001b[0;32mif\u001b[0m \u001b[0mvibe\u001b[0m \u001b[0;34m==\u001b[0m \u001b[0;34m''\u001b[0m \u001b[0;34m:\u001b[0m\u001b[0;34m\u001b[0m\u001b[0;34m\u001b[0m\u001b[0m\n",
      "\u001b[0;32m~/opt/anaconda3/lib/python3.8/site-packages/ipykernel/kernelbase.py\u001b[0m in \u001b[0;36mraw_input\u001b[0;34m(self, prompt)\u001b[0m\n\u001b[1;32m    858\u001b[0m                 \u001b[0;34m\"raw_input was called, but this frontend does not support input requests.\"\u001b[0m\u001b[0;34m\u001b[0m\u001b[0;34m\u001b[0m\u001b[0m\n\u001b[1;32m    859\u001b[0m             )\n\u001b[0;32m--> 860\u001b[0;31m         return self._input_request(str(prompt),\n\u001b[0m\u001b[1;32m    861\u001b[0m             \u001b[0mself\u001b[0m\u001b[0;34m.\u001b[0m\u001b[0m_parent_ident\u001b[0m\u001b[0;34m,\u001b[0m\u001b[0;34m\u001b[0m\u001b[0;34m\u001b[0m\u001b[0m\n\u001b[1;32m    862\u001b[0m             \u001b[0mself\u001b[0m\u001b[0;34m.\u001b[0m\u001b[0m_parent_header\u001b[0m\u001b[0;34m,\u001b[0m\u001b[0;34m\u001b[0m\u001b[0;34m\u001b[0m\u001b[0m\n",
      "\u001b[0;32m~/opt/anaconda3/lib/python3.8/site-packages/ipykernel/kernelbase.py\u001b[0m in \u001b[0;36m_input_request\u001b[0;34m(self, prompt, ident, parent, password)\u001b[0m\n\u001b[1;32m    902\u001b[0m             \u001b[0;32mexcept\u001b[0m \u001b[0mKeyboardInterrupt\u001b[0m\u001b[0;34m:\u001b[0m\u001b[0;34m\u001b[0m\u001b[0;34m\u001b[0m\u001b[0m\n\u001b[1;32m    903\u001b[0m                 \u001b[0;31m# re-raise KeyboardInterrupt, to truncate traceback\u001b[0m\u001b[0;34m\u001b[0m\u001b[0;34m\u001b[0m\u001b[0;34m\u001b[0m\u001b[0m\n\u001b[0;32m--> 904\u001b[0;31m                 \u001b[0;32mraise\u001b[0m \u001b[0mKeyboardInterrupt\u001b[0m\u001b[0;34m(\u001b[0m\u001b[0;34m\"Interrupted by user\"\u001b[0m\u001b[0;34m)\u001b[0m \u001b[0;32mfrom\u001b[0m \u001b[0;32mNone\u001b[0m\u001b[0;34m\u001b[0m\u001b[0;34m\u001b[0m\u001b[0m\n\u001b[0m\u001b[1;32m    905\u001b[0m             \u001b[0;32mexcept\u001b[0m \u001b[0mException\u001b[0m \u001b[0;32mas\u001b[0m \u001b[0me\u001b[0m\u001b[0;34m:\u001b[0m\u001b[0;34m\u001b[0m\u001b[0;34m\u001b[0m\u001b[0m\n\u001b[1;32m    906\u001b[0m                 \u001b[0mself\u001b[0m\u001b[0;34m.\u001b[0m\u001b[0mlog\u001b[0m\u001b[0;34m.\u001b[0m\u001b[0mwarning\u001b[0m\u001b[0;34m(\u001b[0m\u001b[0;34m\"Invalid Message:\"\u001b[0m\u001b[0;34m,\u001b[0m \u001b[0mexc_info\u001b[0m\u001b[0;34m=\u001b[0m\u001b[0;32mTrue\u001b[0m\u001b[0;34m)\u001b[0m\u001b[0;34m\u001b[0m\u001b[0;34m\u001b[0m\u001b[0m\n",
      "\u001b[0;31mKeyboardInterrupt\u001b[0m: Interrupted by user"
     ]
    }
   ],
   "source": [
    "conn, engine = db_connection()\n",
    "cursor = conn.cursor(pymysql.cursors.DictCursor)\n",
    "\n",
    "chrome_options = webdriver.ChromeOptions()\n",
    "# chrome_options.add_argument('--headless')\n",
    "driver = webdriver.Chrome(ChromeDriverManager().install(), options=chrome_options)\n",
    "driver.get('https://vibe.naver.com/search?query=')\n",
    "\n",
    "naver_driver = webdriver.Chrome(ChromeDriverManager().install(), options=chrome_options)\n",
    "\n",
    "for idx in tqdm(handmapping) :\n",
    "    qry = f'SELECT series_id, cd_name, cd_real_name, cd_category, cd_gender, cd_solr_search, cd_height, cd_weight, cd_birth, cd_agency, cd_debut, cd_academic, cd_career, cd_award FROM star_ko_data WHERE series_id={idx}'\n",
    "    result = pd.read_sql(qry, conn)\n",
    "    display(result)\n",
    "    \n",
    "    qry2 = f'SELECT * FROM star_ko_profile_url WHERE series_id={idx}'\n",
    "    result2 = pd.read_sql(qry2, conn)\n",
    "    series_id = result2['series_id'][0]\n",
    "    name = result2['name'][0]\n",
    "    naver = result2['naver_url'][0]\n",
    "    \n",
    "    naver_driver.get(naver)\n",
    "    \n",
    "    driver.get(f'https://vibe.naver.com/search?query={name}')\n",
    "    \n",
    "    print(naver)\n",
    "    \n",
    "    try :\n",
    "        driver.find_element_by_xpath('//*[@id=\"app\"]/div[2]/div/div/a[2]').click()\n",
    "    except :\n",
    "        pass\n",
    "    \n",
    "    vibe = input(\"vibeCd를 입력하세요. \")\n",
    "    \n",
    "    if vibe == '' :\n",
    "        vibeCd = '\"x\"'\n",
    "    else :\n",
    "        vibeCd = vibe\n",
    "        \n",
    "    updateQRY = f'UPDATE star_album_genre SET vibeCd={vibeCd} WHERE series_id={series_id}'\n",
    "    cursor.execute(updateQRY)\n",
    "    conn.commit()"
   ]
  },
  {
   "cell_type": "code",
   "execution_count": null,
   "id": "77742cb9",
   "metadata": {},
   "outputs": [],
   "source": []
  },
  {
   "cell_type": "code",
   "execution_count": null,
   "id": "c668c58f",
   "metadata": {},
   "outputs": [],
   "source": []
  },
  {
   "cell_type": "markdown",
   "id": "6df34d29",
   "metadata": {},
   "source": [
    "## 2. 장르 수집"
   ]
  },
  {
   "cell_type": "code",
   "execution_count": 573,
   "id": "f3bc7ac6",
   "metadata": {},
   "outputs": [
    {
     "data": {
      "text/html": [
       "<div>\n",
       "<style scoped>\n",
       "    .dataframe tbody tr th:only-of-type {\n",
       "        vertical-align: middle;\n",
       "    }\n",
       "\n",
       "    .dataframe tbody tr th {\n",
       "        vertical-align: top;\n",
       "    }\n",
       "\n",
       "    .dataframe thead th {\n",
       "        text-align: right;\n",
       "    }\n",
       "</style>\n",
       "<table border=\"1\" class=\"dataframe\">\n",
       "  <thead>\n",
       "    <tr style=\"text-align: right;\">\n",
       "      <th></th>\n",
       "      <th>pk</th>\n",
       "      <th>series_id</th>\n",
       "      <th>vibeCd</th>\n",
       "      <th>name</th>\n",
       "      <th>new_albumName</th>\n",
       "      <th>release_date</th>\n",
       "      <th>genre</th>\n",
       "      <th>regist_date</th>\n",
       "      <th>update_date</th>\n",
       "    </tr>\n",
       "  </thead>\n",
       "  <tbody>\n",
       "    <tr>\n",
       "      <th>0</th>\n",
       "      <td>1</td>\n",
       "      <td>1</td>\n",
       "      <td>110359</td>\n",
       "      <td>2AM</td>\n",
       "      <td>None</td>\n",
       "      <td>None</td>\n",
       "      <td>None</td>\n",
       "      <td>2021-09-07 05:55:52</td>\n",
       "      <td>NaT</td>\n",
       "    </tr>\n",
       "    <tr>\n",
       "      <th>1</th>\n",
       "      <td>2</td>\n",
       "      <td>2</td>\n",
       "      <td>117564</td>\n",
       "      <td>2NE1</td>\n",
       "      <td>None</td>\n",
       "      <td>None</td>\n",
       "      <td>None</td>\n",
       "      <td>2021-09-07 05:55:57</td>\n",
       "      <td>NaT</td>\n",
       "    </tr>\n",
       "    <tr>\n",
       "      <th>2</th>\n",
       "      <td>3</td>\n",
       "      <td>3</td>\n",
       "      <td>112090</td>\n",
       "      <td>2PM</td>\n",
       "      <td>None</td>\n",
       "      <td>None</td>\n",
       "      <td>None</td>\n",
       "      <td>2021-09-07 05:56:02</td>\n",
       "      <td>NaT</td>\n",
       "    </tr>\n",
       "  </tbody>\n",
       "</table>\n",
       "</div>"
      ],
      "text/plain": [
       "   pk  series_id  vibeCd  name new_albumName release_date genre  \\\n",
       "0   1          1  110359   2AM          None         None  None   \n",
       "1   2          2  117564  2NE1          None         None  None   \n",
       "2   3          3  112090   2PM          None         None  None   \n",
       "\n",
       "          regist_date update_date  \n",
       "0 2021-09-07 05:55:52         NaT  \n",
       "1 2021-09-07 05:55:57         NaT  \n",
       "2 2021-09-07 05:56:02         NaT  "
      ]
     },
     "execution_count": 573,
     "metadata": {},
     "output_type": "execute_result"
    }
   ],
   "source": [
    "conn, engine = db_connection()\n",
    "\n",
    "qry = f'SELECT * FROM star_album_genre WHERE vibeCd is not NULL and vibeCd != \\'x\\''\n",
    "data = pd.read_sql(qry, con=conn)\n",
    "data.head(3)"
   ]
  },
  {
   "cell_type": "code",
   "execution_count": 570,
   "id": "30be51f3",
   "metadata": {},
   "outputs": [
    {
     "data": {
      "text/plain": [
       "1097"
      ]
     },
     "execution_count": 570,
     "metadata": {},
     "output_type": "execute_result"
    }
   ],
   "source": [
    "len(data)"
   ]
  },
  {
   "cell_type": "code",
   "execution_count": 572,
   "id": "bdcedca5",
   "metadata": {},
   "outputs": [],
   "source": [
    "data_list = data['vibeCd'].to_list()"
   ]
  },
  {
   "cell_type": "code",
   "execution_count": null,
   "id": "06e314b0",
   "metadata": {},
   "outputs": [],
   "source": [
    "chrome_options = webdriver.ChromeOptions()\n",
    "# chrome_options.add_argument('--headless')\n",
    "driver = webdriver.Chrome(ChromeDriverManager().install(), options=chrome_options)\n",
    "\n",
    "number = int(input(\"장르 분류할 개체 수 입력 :\"))\n",
    "ex = data_list[0:number]\n",
    "\n",
    "album_url = []\n",
    "genre_list = []\n",
    "\n",
    "for i in tqdm(ex) :\n",
    "    conn, engine = db_connection()\n",
    "    cursor = conn.cursor(pymysql.cursors.DictCursor)\n",
    "    \n",
    "    vibe_url = 'https://vibe.naver.com/artist/'+i\n",
    "    \n",
    "    driver.get(vibe_url)\n",
    "    try : \n",
    "        driver.find_element_by_xpath('//*[@id=\"app\"]/div[2]/div/div/a[2]').click() # 팝업창 끄기\n",
    "    except :\n",
    "        pass\n",
    "    \n",
    "    while True :    \n",
    "        try :    \n",
    "            driver.execute_script(\"window.scrollTo(0, document.body.scrollHeight);\") # 스크롤 끝까지 내리기\n",
    "            time.sleep(0.5)\n",
    "\n",
    "            driver.find_element_by_xpath('//*[@id=\"content\"]/div/div[3]/div/a').click() # 더보기 클릭\n",
    "            time.sleep(0.5)\n",
    "        except :\n",
    "            break\n",
    "            \n",
    "    vibe_html = driver.page_source\n",
    "    vibe_soup = BeautifulSoup(vibe_html, 'html.parser')\n",
    "    \n",
    "    # 앨범 리스트\n",
    "    album_list = vibe_soup.select('a[class=title]')\n",
    "\n",
    "    for i in album_list :\n",
    "        href = i.get('href')\n",
    "        href = 'https://vibe.naver.com' + href\n",
    "        album_url.append(href)\n",
    "        \n",
    "        \n",
    "    # 최신 앨범명 & 발매 날짜\n",
    "    newURL = album_url[0]\n",
    "\n",
    "    driver.get(newURL)\n",
    "    html = driver.page_source\n",
    "    soup = BeautifulSoup(html, 'html.parser')\n",
    "\n",
    "    # 앨범명\n",
    "    title = soup.select('span[class=title]')[0].text\n",
    "    title = re.sub(\"\\!|\\'|\\?\", \"\", title)  # 특수문자 제거\n",
    "    # 발매 날짜\n",
    "    relese_date = soup.select('span[class=item]')[0].text\n",
    "    relese_date = relese_date.replace(' ', '')\n",
    "        \n",
    "    # 모든 장르\n",
    "    for j in album_url :\n",
    "        driver.get(j)\n",
    "        html_ = driver.page_source\n",
    "        soup_ = BeautifulSoup(html_, 'html.parser')\n",
    "        \n",
    "        genre = soup_.select('span[class=item]')[1].text\n",
    "        genre = genre.replace(' ', '')\n",
    "        \n",
    "        genre_list.append(genre)\n",
    "        \n",
    "    genre_list = list(set(genre_list)) # 중복 제거\n",
    "    \n",
    "    # 사업자 등록 번호 제거\n",
    "    for a in genre_list[::-1] :\n",
    "        if a.find('사업자') > -1 :\n",
    "            genre_list.remove(a)\n",
    "            \n",
    "    # 리스트 문자열로 합치기\n",
    "    genre_str = '|'.join(genre_list)\n",
    "\n",
    "    insertQRY = f\"INSERT into star_album_genre (series_id, vibeCd, name, new_albumName, release_date, genre) \\\n",
    "                VALUES ({series_id}, {vibeCd}, '{name}', '{title}', '{relese_date}', '{genre_str}')\"\n",
    "    cursor.execute(insertQRY)\n",
    "    conn.commit()\n",
    "    \n",
    "conn.close()\n",
    "driver.close()\n"
   ]
  },
  {
   "cell_type": "code",
   "execution_count": null,
   "id": "5cb54097",
   "metadata": {},
   "outputs": [],
   "source": []
  },
  {
   "cell_type": "code",
   "execution_count": null,
   "id": "11f7c99a",
   "metadata": {},
   "outputs": [],
   "source": []
  },
  {
   "cell_type": "code",
   "execution_count": null,
   "id": "f0a914de",
   "metadata": {},
   "outputs": [],
   "source": []
  },
  {
   "cell_type": "code",
   "execution_count": null,
   "id": "89678198",
   "metadata": {},
   "outputs": [],
   "source": []
  },
  {
   "cell_type": "code",
   "execution_count": 103,
   "id": "afe18b2e",
   "metadata": {},
   "outputs": [
    {
     "name": "stderr",
     "output_type": "stream",
     "text": [
      "\n",
      "\n",
      "====== WebDriver manager ======\n",
      "Current google-chrome version is 91.0.4472\n",
      "Get LATEST driver version for 91.0.4472\n",
      "Driver [/Users/jieun/.wdm/drivers/chromedriver/mac64/91.0.4472.101/chromedriver] found in cache\n"
     ]
    },
    {
     "name": "stdout",
     "output_type": "stream",
     "text": [
      "장르 분류할 개체 수 입력 :1\n"
     ]
    },
    {
     "name": "stderr",
     "output_type": "stream",
     "text": [
      "  0%|          | 0/1 [00:35<?, ?it/s]\n"
     ]
    },
    {
     "ename": "ProgrammingError",
     "evalue": "(1064, \"You have an error in your SQL syntax; check the manual that corresponds to your MySQL server version for the right syntax to use near 's Talk', '2014.10.30', '응원가|발라드,알앤비/어반|댄스|캐롤|영' at line 1\")",
     "output_type": "error",
     "traceback": [
      "\u001b[0;31m---------------------------------------------------------------------------\u001b[0m",
      "\u001b[0;31mProgrammingError\u001b[0m                          Traceback (most recent call last)",
      "\u001b[0;32m<ipython-input-103-c013239b94a0>\u001b[0m in \u001b[0;36m<module>\u001b[0;34m\u001b[0m\n\u001b[1;32m     89\u001b[0m     \u001b[0minsertQRY\u001b[0m \u001b[0;34m=\u001b[0m \u001b[0mf\u001b[0m\u001b[0;31m\"\u001b[0m\u001b[0mINSERT\u001b[0m \u001b[0minto\u001b[0m \u001b[0mstar_album_genre\u001b[0m \u001b[0;34m(\u001b[0m\u001b[0mseries_id\u001b[0m\u001b[0;34m,\u001b[0m \u001b[0mvibeCd\u001b[0m\u001b[0;34m,\u001b[0m \u001b[0mname\u001b[0m\u001b[0;34m,\u001b[0m \u001b[0mnew_albumName\u001b[0m\u001b[0;34m,\u001b[0m \u001b[0mrelease_date\u001b[0m\u001b[0;34m)\u001b[0m\u001b[0;31m \u001b[0m\u001b[0;31m\\\u001b[0m\u001b[0;34m\u001b[0m\u001b[0;34m\u001b[0m\u001b[0m\n\u001b[1;32m     90\u001b[0m                 \u001b[0mVALUES\u001b[0m \u001b[0;34m(\u001b[0m\u001b[0;34m{\u001b[0m\u001b[0mseries_id\u001b[0m\u001b[0;34m}\u001b[0m\u001b[0;34m,\u001b[0m \u001b[0;34m{\u001b[0m\u001b[0mvibeCd\u001b[0m\u001b[0;34m}\u001b[0m\u001b[0;34m,\u001b[0m \u001b[0;34m'{name}'\u001b[0m\u001b[0;34m,\u001b[0m \u001b[0;34m'{title}'\u001b[0m\u001b[0;34m,\u001b[0m \u001b[0;34m'{relese_date}'\u001b[0m\u001b[0;34m,\u001b[0m \u001b[0;34m'{genre_str}'\u001b[0m\u001b[0;34m)\u001b[0m\u001b[0;31m\"\u001b[0m\u001b[0;34m\u001b[0m\u001b[0;34m\u001b[0m\u001b[0m\n\u001b[0;32m---> 91\u001b[0;31m     \u001b[0mcursor\u001b[0m\u001b[0;34m.\u001b[0m\u001b[0mexecute\u001b[0m\u001b[0;34m(\u001b[0m\u001b[0minsertQRY\u001b[0m\u001b[0;34m)\u001b[0m\u001b[0;34m\u001b[0m\u001b[0;34m\u001b[0m\u001b[0m\n\u001b[0m\u001b[1;32m     92\u001b[0m     \u001b[0mconn\u001b[0m\u001b[0;34m.\u001b[0m\u001b[0mcommit\u001b[0m\u001b[0;34m(\u001b[0m\u001b[0;34m)\u001b[0m\u001b[0;34m\u001b[0m\u001b[0;34m\u001b[0m\u001b[0m\n\u001b[1;32m     93\u001b[0m \u001b[0;34m\u001b[0m\u001b[0m\n",
      "\u001b[0;32m~/opt/anaconda3/lib/python3.8/site-packages/pymysql/cursors.py\u001b[0m in \u001b[0;36mexecute\u001b[0;34m(self, query, args)\u001b[0m\n\u001b[1;32m    146\u001b[0m         \u001b[0mquery\u001b[0m \u001b[0;34m=\u001b[0m \u001b[0mself\u001b[0m\u001b[0;34m.\u001b[0m\u001b[0mmogrify\u001b[0m\u001b[0;34m(\u001b[0m\u001b[0mquery\u001b[0m\u001b[0;34m,\u001b[0m \u001b[0margs\u001b[0m\u001b[0;34m)\u001b[0m\u001b[0;34m\u001b[0m\u001b[0;34m\u001b[0m\u001b[0m\n\u001b[1;32m    147\u001b[0m \u001b[0;34m\u001b[0m\u001b[0m\n\u001b[0;32m--> 148\u001b[0;31m         \u001b[0mresult\u001b[0m \u001b[0;34m=\u001b[0m \u001b[0mself\u001b[0m\u001b[0;34m.\u001b[0m\u001b[0m_query\u001b[0m\u001b[0;34m(\u001b[0m\u001b[0mquery\u001b[0m\u001b[0;34m)\u001b[0m\u001b[0;34m\u001b[0m\u001b[0;34m\u001b[0m\u001b[0m\n\u001b[0m\u001b[1;32m    149\u001b[0m         \u001b[0mself\u001b[0m\u001b[0;34m.\u001b[0m\u001b[0m_executed\u001b[0m \u001b[0;34m=\u001b[0m \u001b[0mquery\u001b[0m\u001b[0;34m\u001b[0m\u001b[0;34m\u001b[0m\u001b[0m\n\u001b[1;32m    150\u001b[0m         \u001b[0;32mreturn\u001b[0m \u001b[0mresult\u001b[0m\u001b[0;34m\u001b[0m\u001b[0;34m\u001b[0m\u001b[0m\n",
      "\u001b[0;32m~/opt/anaconda3/lib/python3.8/site-packages/pymysql/cursors.py\u001b[0m in \u001b[0;36m_query\u001b[0;34m(self, q)\u001b[0m\n\u001b[1;32m    308\u001b[0m         \u001b[0mself\u001b[0m\u001b[0;34m.\u001b[0m\u001b[0m_last_executed\u001b[0m \u001b[0;34m=\u001b[0m \u001b[0mq\u001b[0m\u001b[0;34m\u001b[0m\u001b[0;34m\u001b[0m\u001b[0m\n\u001b[1;32m    309\u001b[0m         \u001b[0mself\u001b[0m\u001b[0;34m.\u001b[0m\u001b[0m_clear_result\u001b[0m\u001b[0;34m(\u001b[0m\u001b[0;34m)\u001b[0m\u001b[0;34m\u001b[0m\u001b[0;34m\u001b[0m\u001b[0m\n\u001b[0;32m--> 310\u001b[0;31m         \u001b[0mconn\u001b[0m\u001b[0;34m.\u001b[0m\u001b[0mquery\u001b[0m\u001b[0;34m(\u001b[0m\u001b[0mq\u001b[0m\u001b[0;34m)\u001b[0m\u001b[0;34m\u001b[0m\u001b[0;34m\u001b[0m\u001b[0m\n\u001b[0m\u001b[1;32m    311\u001b[0m         \u001b[0mself\u001b[0m\u001b[0;34m.\u001b[0m\u001b[0m_do_get_result\u001b[0m\u001b[0;34m(\u001b[0m\u001b[0;34m)\u001b[0m\u001b[0;34m\u001b[0m\u001b[0;34m\u001b[0m\u001b[0m\n\u001b[1;32m    312\u001b[0m         \u001b[0;32mreturn\u001b[0m \u001b[0mself\u001b[0m\u001b[0;34m.\u001b[0m\u001b[0mrowcount\u001b[0m\u001b[0;34m\u001b[0m\u001b[0;34m\u001b[0m\u001b[0m\n",
      "\u001b[0;32m~/opt/anaconda3/lib/python3.8/site-packages/pymysql/connections.py\u001b[0m in \u001b[0;36mquery\u001b[0;34m(self, sql, unbuffered)\u001b[0m\n\u001b[1;32m    546\u001b[0m             \u001b[0msql\u001b[0m \u001b[0;34m=\u001b[0m \u001b[0msql\u001b[0m\u001b[0;34m.\u001b[0m\u001b[0mencode\u001b[0m\u001b[0;34m(\u001b[0m\u001b[0mself\u001b[0m\u001b[0;34m.\u001b[0m\u001b[0mencoding\u001b[0m\u001b[0;34m,\u001b[0m \u001b[0;34m\"surrogateescape\"\u001b[0m\u001b[0;34m)\u001b[0m\u001b[0;34m\u001b[0m\u001b[0;34m\u001b[0m\u001b[0m\n\u001b[1;32m    547\u001b[0m         \u001b[0mself\u001b[0m\u001b[0;34m.\u001b[0m\u001b[0m_execute_command\u001b[0m\u001b[0;34m(\u001b[0m\u001b[0mCOMMAND\u001b[0m\u001b[0;34m.\u001b[0m\u001b[0mCOM_QUERY\u001b[0m\u001b[0;34m,\u001b[0m \u001b[0msql\u001b[0m\u001b[0;34m)\u001b[0m\u001b[0;34m\u001b[0m\u001b[0;34m\u001b[0m\u001b[0m\n\u001b[0;32m--> 548\u001b[0;31m         \u001b[0mself\u001b[0m\u001b[0;34m.\u001b[0m\u001b[0m_affected_rows\u001b[0m \u001b[0;34m=\u001b[0m \u001b[0mself\u001b[0m\u001b[0;34m.\u001b[0m\u001b[0m_read_query_result\u001b[0m\u001b[0;34m(\u001b[0m\u001b[0munbuffered\u001b[0m\u001b[0;34m=\u001b[0m\u001b[0munbuffered\u001b[0m\u001b[0;34m)\u001b[0m\u001b[0;34m\u001b[0m\u001b[0;34m\u001b[0m\u001b[0m\n\u001b[0m\u001b[1;32m    549\u001b[0m         \u001b[0;32mreturn\u001b[0m \u001b[0mself\u001b[0m\u001b[0;34m.\u001b[0m\u001b[0m_affected_rows\u001b[0m\u001b[0;34m\u001b[0m\u001b[0;34m\u001b[0m\u001b[0m\n\u001b[1;32m    550\u001b[0m \u001b[0;34m\u001b[0m\u001b[0m\n",
      "\u001b[0;32m~/opt/anaconda3/lib/python3.8/site-packages/pymysql/connections.py\u001b[0m in \u001b[0;36m_read_query_result\u001b[0;34m(self, unbuffered)\u001b[0m\n\u001b[1;32m    773\u001b[0m         \u001b[0;32melse\u001b[0m\u001b[0;34m:\u001b[0m\u001b[0;34m\u001b[0m\u001b[0;34m\u001b[0m\u001b[0m\n\u001b[1;32m    774\u001b[0m             \u001b[0mresult\u001b[0m \u001b[0;34m=\u001b[0m \u001b[0mMySQLResult\u001b[0m\u001b[0;34m(\u001b[0m\u001b[0mself\u001b[0m\u001b[0;34m)\u001b[0m\u001b[0;34m\u001b[0m\u001b[0;34m\u001b[0m\u001b[0m\n\u001b[0;32m--> 775\u001b[0;31m             \u001b[0mresult\u001b[0m\u001b[0;34m.\u001b[0m\u001b[0mread\u001b[0m\u001b[0;34m(\u001b[0m\u001b[0;34m)\u001b[0m\u001b[0;34m\u001b[0m\u001b[0;34m\u001b[0m\u001b[0m\n\u001b[0m\u001b[1;32m    776\u001b[0m         \u001b[0mself\u001b[0m\u001b[0;34m.\u001b[0m\u001b[0m_result\u001b[0m \u001b[0;34m=\u001b[0m \u001b[0mresult\u001b[0m\u001b[0;34m\u001b[0m\u001b[0;34m\u001b[0m\u001b[0m\n\u001b[1;32m    777\u001b[0m         \u001b[0;32mif\u001b[0m \u001b[0mresult\u001b[0m\u001b[0;34m.\u001b[0m\u001b[0mserver_status\u001b[0m \u001b[0;32mis\u001b[0m \u001b[0;32mnot\u001b[0m \u001b[0;32mNone\u001b[0m\u001b[0;34m:\u001b[0m\u001b[0;34m\u001b[0m\u001b[0;34m\u001b[0m\u001b[0m\n",
      "\u001b[0;32m~/opt/anaconda3/lib/python3.8/site-packages/pymysql/connections.py\u001b[0m in \u001b[0;36mread\u001b[0;34m(self)\u001b[0m\n\u001b[1;32m   1154\u001b[0m     \u001b[0;32mdef\u001b[0m \u001b[0mread\u001b[0m\u001b[0;34m(\u001b[0m\u001b[0mself\u001b[0m\u001b[0;34m)\u001b[0m\u001b[0;34m:\u001b[0m\u001b[0;34m\u001b[0m\u001b[0;34m\u001b[0m\u001b[0m\n\u001b[1;32m   1155\u001b[0m         \u001b[0;32mtry\u001b[0m\u001b[0;34m:\u001b[0m\u001b[0;34m\u001b[0m\u001b[0;34m\u001b[0m\u001b[0m\n\u001b[0;32m-> 1156\u001b[0;31m             \u001b[0mfirst_packet\u001b[0m \u001b[0;34m=\u001b[0m \u001b[0mself\u001b[0m\u001b[0;34m.\u001b[0m\u001b[0mconnection\u001b[0m\u001b[0;34m.\u001b[0m\u001b[0m_read_packet\u001b[0m\u001b[0;34m(\u001b[0m\u001b[0;34m)\u001b[0m\u001b[0;34m\u001b[0m\u001b[0;34m\u001b[0m\u001b[0m\n\u001b[0m\u001b[1;32m   1157\u001b[0m \u001b[0;34m\u001b[0m\u001b[0m\n\u001b[1;32m   1158\u001b[0m             \u001b[0;32mif\u001b[0m \u001b[0mfirst_packet\u001b[0m\u001b[0;34m.\u001b[0m\u001b[0mis_ok_packet\u001b[0m\u001b[0;34m(\u001b[0m\u001b[0;34m)\u001b[0m\u001b[0;34m:\u001b[0m\u001b[0;34m\u001b[0m\u001b[0;34m\u001b[0m\u001b[0m\n",
      "\u001b[0;32m~/opt/anaconda3/lib/python3.8/site-packages/pymysql/connections.py\u001b[0m in \u001b[0;36m_read_packet\u001b[0;34m(self, packet_type)\u001b[0m\n\u001b[1;32m    723\u001b[0m             \u001b[0;32mif\u001b[0m \u001b[0mself\u001b[0m\u001b[0;34m.\u001b[0m\u001b[0m_result\u001b[0m \u001b[0;32mis\u001b[0m \u001b[0;32mnot\u001b[0m \u001b[0;32mNone\u001b[0m \u001b[0;32mand\u001b[0m \u001b[0mself\u001b[0m\u001b[0;34m.\u001b[0m\u001b[0m_result\u001b[0m\u001b[0;34m.\u001b[0m\u001b[0munbuffered_active\u001b[0m \u001b[0;32mis\u001b[0m \u001b[0;32mTrue\u001b[0m\u001b[0;34m:\u001b[0m\u001b[0;34m\u001b[0m\u001b[0;34m\u001b[0m\u001b[0m\n\u001b[1;32m    724\u001b[0m                 \u001b[0mself\u001b[0m\u001b[0;34m.\u001b[0m\u001b[0m_result\u001b[0m\u001b[0;34m.\u001b[0m\u001b[0munbuffered_active\u001b[0m \u001b[0;34m=\u001b[0m \u001b[0;32mFalse\u001b[0m\u001b[0;34m\u001b[0m\u001b[0;34m\u001b[0m\u001b[0m\n\u001b[0;32m--> 725\u001b[0;31m             \u001b[0mpacket\u001b[0m\u001b[0;34m.\u001b[0m\u001b[0mraise_for_error\u001b[0m\u001b[0;34m(\u001b[0m\u001b[0;34m)\u001b[0m\u001b[0;34m\u001b[0m\u001b[0;34m\u001b[0m\u001b[0m\n\u001b[0m\u001b[1;32m    726\u001b[0m         \u001b[0;32mreturn\u001b[0m \u001b[0mpacket\u001b[0m\u001b[0;34m\u001b[0m\u001b[0;34m\u001b[0m\u001b[0m\n\u001b[1;32m    727\u001b[0m \u001b[0;34m\u001b[0m\u001b[0m\n",
      "\u001b[0;32m~/opt/anaconda3/lib/python3.8/site-packages/pymysql/protocol.py\u001b[0m in \u001b[0;36mraise_for_error\u001b[0;34m(self)\u001b[0m\n\u001b[1;32m    219\u001b[0m         \u001b[0;32mif\u001b[0m \u001b[0mDEBUG\u001b[0m\u001b[0;34m:\u001b[0m\u001b[0;34m\u001b[0m\u001b[0;34m\u001b[0m\u001b[0m\n\u001b[1;32m    220\u001b[0m             \u001b[0mprint\u001b[0m\u001b[0;34m(\u001b[0m\u001b[0;34m\"errno =\"\u001b[0m\u001b[0;34m,\u001b[0m \u001b[0merrno\u001b[0m\u001b[0;34m)\u001b[0m\u001b[0;34m\u001b[0m\u001b[0;34m\u001b[0m\u001b[0m\n\u001b[0;32m--> 221\u001b[0;31m         \u001b[0merr\u001b[0m\u001b[0;34m.\u001b[0m\u001b[0mraise_mysql_exception\u001b[0m\u001b[0;34m(\u001b[0m\u001b[0mself\u001b[0m\u001b[0;34m.\u001b[0m\u001b[0m_data\u001b[0m\u001b[0;34m)\u001b[0m\u001b[0;34m\u001b[0m\u001b[0;34m\u001b[0m\u001b[0m\n\u001b[0m\u001b[1;32m    222\u001b[0m \u001b[0;34m\u001b[0m\u001b[0m\n\u001b[1;32m    223\u001b[0m     \u001b[0;32mdef\u001b[0m \u001b[0mdump\u001b[0m\u001b[0;34m(\u001b[0m\u001b[0mself\u001b[0m\u001b[0;34m)\u001b[0m\u001b[0;34m:\u001b[0m\u001b[0;34m\u001b[0m\u001b[0;34m\u001b[0m\u001b[0m\n",
      "\u001b[0;32m~/opt/anaconda3/lib/python3.8/site-packages/pymysql/err.py\u001b[0m in \u001b[0;36mraise_mysql_exception\u001b[0;34m(data)\u001b[0m\n\u001b[1;32m    141\u001b[0m     \u001b[0;32mif\u001b[0m \u001b[0merrorclass\u001b[0m \u001b[0;32mis\u001b[0m \u001b[0;32mNone\u001b[0m\u001b[0;34m:\u001b[0m\u001b[0;34m\u001b[0m\u001b[0;34m\u001b[0m\u001b[0m\n\u001b[1;32m    142\u001b[0m         \u001b[0merrorclass\u001b[0m \u001b[0;34m=\u001b[0m \u001b[0mInternalError\u001b[0m \u001b[0;32mif\u001b[0m \u001b[0merrno\u001b[0m \u001b[0;34m<\u001b[0m \u001b[0;36m1000\u001b[0m \u001b[0;32melse\u001b[0m \u001b[0mOperationalError\u001b[0m\u001b[0;34m\u001b[0m\u001b[0;34m\u001b[0m\u001b[0m\n\u001b[0;32m--> 143\u001b[0;31m     \u001b[0;32mraise\u001b[0m \u001b[0merrorclass\u001b[0m\u001b[0;34m(\u001b[0m\u001b[0merrno\u001b[0m\u001b[0;34m,\u001b[0m \u001b[0merrval\u001b[0m\u001b[0;34m)\u001b[0m\u001b[0;34m\u001b[0m\u001b[0;34m\u001b[0m\u001b[0m\n\u001b[0m",
      "\u001b[0;31mProgrammingError\u001b[0m: (1064, \"You have an error in your SQL syntax; check the manual that corresponds to your MySQL server version for the right syntax to use near 's Talk', '2014.10.30', '응원가|발라드,알앤비/어반|댄스|캐롤|영' at line 1\")"
     ]
    }
   ],
   "source": [
    "### vibeCd & 장르 한꺼번에 수집하는 코드\n",
    "\n",
    "chrome_options = webdriver.ChromeOptions()\n",
    "chrome_options.add_argument('--headless')\n",
    "driver = webdriver.Chrome(ChromeDriverManager().install(), options=chrome_options)\n",
    "\n",
    "number = int(input(\"장르 분류할 개체 수 입력 :\"))\n",
    "ex = data_list[0:number]\n",
    "\n",
    "album_url = []\n",
    "genre_list = []\n",
    "\n",
    "for i in tqdm(ex) :\n",
    "    conn, engine = db_connection()\n",
    "    cursor = conn.cursor(pymysql.cursors.DictCursor)\n",
    "    \n",
    "    qry = f'SELECT * FROM star_ko_profile_url WHERE series_id={i}'\n",
    "    profileData = pd.read_sql(qry, con=conn)\n",
    "    \n",
    "    series_id = profileData['series_id'][0]\n",
    "    name = profileData['name'][0]\n",
    "    naver_url = profileData['naver_url'][0]\n",
    "    \n",
    "    naver_html = requests.get(naver_url).text\n",
    "    naver_soup = BeautifulSoup(naver_html, 'html.parser')\n",
    "    \n",
    "    # 앨범 상세보기 > 바이브\n",
    "    vibe_url = naver_soup.select('a[class=bt_more]')[0].get('href')\n",
    "    vibeCd = re.findall(\"\\d+\", vibe_url)[0]\n",
    "    \n",
    "    driver.get(vibe_url)\n",
    "    driver.find_element_by_xpath('//*[@id=\"app\"]/div[2]/div/div/a[2]').click() # 팝업창 끄기\n",
    "    \n",
    "    while True :    \n",
    "        try :    \n",
    "            driver.execute_script(\"window.scrollTo(0, document.body.scrollHeight);\") # 스크롤 끝까지 내리기\n",
    "            time.sleep(1)\n",
    "\n",
    "            driver.find_element_by_xpath('//*[@id=\"content\"]/div/div[3]/div/a').click() # 더보기 클릭\n",
    "            time.sleep(1)\n",
    "\n",
    "        except :\n",
    "            break\n",
    "            \n",
    "    vibe_html = driver.page_source\n",
    "    vibe_soup = BeautifulSoup(vibe_html, 'html.parser')\n",
    "    \n",
    "    # 앨범 리스트\n",
    "    album_list = vibe_soup.select('a[class=title]')\n",
    "\n",
    "    for i in album_list :\n",
    "        href = i.get('href')\n",
    "        href = 'https://vibe.naver.com' + href\n",
    "        album_url.append(href)\n",
    "        \n",
    "        \n",
    "    # 최신 앨범명 & 발매 날짜\n",
    "    newURL = album_url[0]\n",
    "\n",
    "    driver.get(newURL)\n",
    "    html = driver.page_source\n",
    "    soup = BeautifulSoup(html, 'html.parser')\n",
    "\n",
    "    # 앨범명\n",
    "    title = soup.select('span[class=title]')[0].text\n",
    "    title = re.sub(\"\\!|\\'|\\?\", \"\", title)  # 특수문자 제거\n",
    "    # 발매 날짜\n",
    "    relese_date = soup.select('span[class=item]')[0].text\n",
    "    relese_date = relese_date.replace(' ', '')\n",
    "        \n",
    "    # 모든 장르\n",
    "    for j in album_url :\n",
    "        driver.get(j)\n",
    "        html_ = driver.page_source\n",
    "        soup_ = BeautifulSoup(html_, 'html.parser')\n",
    "        \n",
    "        genre = soup_.select('span[class=item]')[1].text\n",
    "        genre = genre.replace(' ', '')\n",
    "        \n",
    "        genre_list.append(genre)\n",
    "        \n",
    "    genre_list = list(set(genre_list)) # 중복 제거\n",
    "    \n",
    "    # 사업자 등록 번호 제거\n",
    "    for a in genre_list[::-1] :\n",
    "        if a.find('사업자') > -1 :\n",
    "            genre_list.remove(a)\n",
    "            \n",
    "    # 리스트 문자열로 합치기\n",
    "    genre_str = '|'.join(genre_list)\n",
    "\n",
    "    insertQRY = f\"INSERT into star_album_genre (series_id, vibeCd, name, new_albumName, release_date, genre) \\\n",
    "                VALUES ({series_id}, {vibeCd}, '{name}', '{title}', '{relese_date}', '{genre_str}')\"\n",
    "    cursor.execute(insertQRY)\n",
    "    conn.commit()\n",
    "    \n",
    "conn.close()\n",
    "driver.close()\n"
   ]
  },
  {
   "cell_type": "code",
   "execution_count": 188,
   "id": "696fcd8a",
   "metadata": {},
   "outputs": [],
   "source": [
    "naver_url = 'https://people.search.naver.com/search.naver?where=nexearch&sm=tab_ppn&query=%EC%83%A4%EC%9D%B4%EB%8B%88%ED%83%9C%EB%AF%BC&os=154915&ie=utf8&key=PeopleService'\n",
    "\n",
    "naver_html = requests.get(naver_url).text\n",
    "naver_soup = BeautifulSoup(naver_html, 'html.parser')\n",
    "\n",
    "tit = naver_soup.select('a[class=tit]')\n",
    "\n",
    "for t in tit :\n",
    "    if 'vibe' in t.get('href') :\n",
    "        vibe_url = t.get('href')\n",
    "        \n",
    "chrome_options = webdriver.ChromeOptions()\n",
    "# chrome_options.add_argument('--headless')\n",
    "driver = webdriver.Chrome(ChromeDriverManager().install(), options=chrome_options)\n",
    "\n",
    "driver.get(vibe_url)\n",
    "html = driver.page_source\n",
    "soup = BeautifulSoup(html, 'html.parser')\n",
    "\n",
    "# VIBE key 값\n",
    "vibeCd = soup.select('a[class=link_sub_title]')[0].get('href')\n",
    "vibeCd = re.findall(\"\\d+\", vibeCd)[0]\n",
    "\n",
    "qry = f\"INSERT into star_album_genre (series_id, vibeCd, name) VALUES ({series_id}, {vibeCd}, '{name}')\""
   ]
  },
  {
   "cell_type": "code",
   "execution_count": null,
   "id": "6d54da51",
   "metadata": {},
   "outputs": [],
   "source": []
  },
  {
   "cell_type": "code",
   "execution_count": 451,
   "id": "c0486d05",
   "metadata": {},
   "outputs": [],
   "source": [
    "conn.close()"
   ]
  },
  {
   "cell_type": "code",
   "execution_count": 456,
   "id": "80209ece",
   "metadata": {},
   "outputs": [
    {
     "data": {
      "text/html": [
       "<div>\n",
       "<style scoped>\n",
       "    .dataframe tbody tr th:only-of-type {\n",
       "        vertical-align: middle;\n",
       "    }\n",
       "\n",
       "    .dataframe tbody tr th {\n",
       "        vertical-align: top;\n",
       "    }\n",
       "\n",
       "    .dataframe thead th {\n",
       "        text-align: right;\n",
       "    }\n",
       "</style>\n",
       "<table border=\"1\" class=\"dataframe\">\n",
       "  <thead>\n",
       "    <tr style=\"text-align: right;\">\n",
       "      <th></th>\n",
       "      <th>pk</th>\n",
       "      <th>series_id</th>\n",
       "      <th>vibeCd</th>\n",
       "      <th>name</th>\n",
       "      <th>new_albumName</th>\n",
       "      <th>release_date</th>\n",
       "      <th>genre</th>\n",
       "      <th>regist_date</th>\n",
       "      <th>update_date</th>\n",
       "    </tr>\n",
       "  </thead>\n",
       "  <tbody>\n",
       "    <tr>\n",
       "      <th>0</th>\n",
       "      <td>2423</td>\n",
       "      <td>8052008</td>\n",
       "      <td>101699</td>\n",
       "      <td>윙크</td>\n",
       "      <td>None</td>\n",
       "      <td>None</td>\n",
       "      <td>None</td>\n",
       "      <td>2021-09-06 17:11:16</td>\n",
       "      <td>None</td>\n",
       "    </tr>\n",
       "    <tr>\n",
       "      <th>1</th>\n",
       "      <td>3456</td>\n",
       "      <td>16388181</td>\n",
       "      <td>102088</td>\n",
       "      <td>다빈크</td>\n",
       "      <td>None</td>\n",
       "      <td>None</td>\n",
       "      <td>None</td>\n",
       "      <td>2021-09-06 18:46:49</td>\n",
       "      <td>None</td>\n",
       "    </tr>\n",
       "    <tr>\n",
       "      <th>2</th>\n",
       "      <td>1225</td>\n",
       "      <td>3244</td>\n",
       "      <td>104494</td>\n",
       "      <td>마이티 마우스</td>\n",
       "      <td>None</td>\n",
       "      <td>None</td>\n",
       "      <td>None</td>\n",
       "      <td>2021-09-06 14:56:23</td>\n",
       "      <td>None</td>\n",
       "    </tr>\n",
       "    <tr>\n",
       "      <th>3</th>\n",
       "      <td>178</td>\n",
       "      <td>398</td>\n",
       "      <td>10476</td>\n",
       "      <td>배치기</td>\n",
       "      <td>None</td>\n",
       "      <td>None</td>\n",
       "      <td>None</td>\n",
       "      <td>2021-09-06 13:12:13</td>\n",
       "      <td>None</td>\n",
       "    </tr>\n",
       "    <tr>\n",
       "      <th>4</th>\n",
       "      <td>181</td>\n",
       "      <td>406</td>\n",
       "      <td>106</td>\n",
       "      <td>백지영</td>\n",
       "      <td>None</td>\n",
       "      <td>None</td>\n",
       "      <td>None</td>\n",
       "      <td>2021-09-06 13:12:29</td>\n",
       "      <td>None</td>\n",
       "    </tr>\n",
       "  </tbody>\n",
       "</table>\n",
       "</div>"
      ],
      "text/plain": [
       "     pk  series_id  vibeCd     name new_albumName release_date genre  \\\n",
       "0  2423    8052008  101699       윙크          None         None  None   \n",
       "1  3456   16388181  102088      다빈크          None         None  None   \n",
       "2  1225       3244  104494  마이티 마우스          None         None  None   \n",
       "3   178        398   10476      배치기          None         None  None   \n",
       "4   181        406     106      백지영          None         None  None   \n",
       "\n",
       "          regist_date update_date  \n",
       "0 2021-09-06 17:11:16        None  \n",
       "1 2021-09-06 18:46:49        None  \n",
       "2 2021-09-06 14:56:23        None  \n",
       "3 2021-09-06 13:12:13        None  \n",
       "4 2021-09-06 13:12:29        None  "
      ]
     },
     "execution_count": 456,
     "metadata": {},
     "output_type": "execute_result"
    }
   ],
   "source": [
    "conn, engine = db_connection()\n",
    "qry = 'SELECT * FROM star_album_genre_copy_ GROUP BY vibeCd HAVING COUNT(vibeCd) > 1'\n",
    "df = pd.read_sql(qry, con=conn)\n",
    "df.head()\n",
    "# df_list = df['series_id'].to_list()"
   ]
  },
  {
   "cell_type": "code",
   "execution_count": 462,
   "id": "26d09804",
   "metadata": {},
   "outputs": [
    {
     "data": {
      "text/plain": [
       "(477, 9)"
      ]
     },
     "execution_count": 462,
     "metadata": {},
     "output_type": "execute_result"
    }
   ],
   "source": [
    "df.shape"
   ]
  },
  {
   "cell_type": "code",
   "execution_count": 459,
   "id": "1208a2e2",
   "metadata": {},
   "outputs": [],
   "source": [
    "df_list = df['vibeCd'].to_list()"
   ]
  },
  {
   "cell_type": "code",
   "execution_count": 460,
   "id": "01de6585",
   "metadata": {},
   "outputs": [
    {
     "data": {
      "text/plain": [
       "477"
      ]
     },
     "execution_count": 460,
     "metadata": {},
     "output_type": "execute_result"
    }
   ],
   "source": [
    "len(df_list)"
   ]
  },
  {
   "cell_type": "code",
   "execution_count": 461,
   "id": "a338f7d2",
   "metadata": {},
   "outputs": [
    {
     "data": {
      "text/plain": [
       "['101699',\n",
       " '102088',\n",
       " '104494',\n",
       " '10476',\n",
       " '106',\n",
       " '107338',\n",
       " '1076039',\n",
       " '107746',\n",
       " '10793',\n",
       " '10838',\n",
       " '1090381',\n",
       " '1090664',\n",
       " '109320',\n",
       " '109713',\n",
       " '11001',\n",
       " '110111',\n",
       " '110142',\n",
       " '11156',\n",
       " '112',\n",
       " '112090',\n",
       " '112268',\n",
       " '114411',\n",
       " '115',\n",
       " '115457',\n",
       " '115672',\n",
       " '116436',\n",
       " '11691',\n",
       " '116932',\n",
       " '118106',\n",
       " '11857',\n",
       " '11925',\n",
       " '119353',\n",
       " '119647',\n",
       " '1200405',\n",
       " '1200595',\n",
       " '120130',\n",
       " '121224',\n",
       " '121611',\n",
       " '121722',\n",
       " '122084',\n",
       " '122134',\n",
       " '122136',\n",
       " '1229',\n",
       " '1231',\n",
       " '123222',\n",
       " '12435',\n",
       " '124674',\n",
       " '125352',\n",
       " '12536',\n",
       " '12543',\n",
       " '125617',\n",
       " '126049',\n",
       " '127297',\n",
       " '128608',\n",
       " '129',\n",
       " '1304',\n",
       " '131660',\n",
       " '133892',\n",
       " '13542',\n",
       " '135502',\n",
       " '135666',\n",
       " '135669',\n",
       " '136625',\n",
       " '137277',\n",
       " '138432',\n",
       " '138437',\n",
       " '138458',\n",
       " '1385',\n",
       " '138775',\n",
       " '138794',\n",
       " '139059',\n",
       " '14044',\n",
       " '140917',\n",
       " '14139',\n",
       " '14227',\n",
       " '142945',\n",
       " '143112',\n",
       " '143179',\n",
       " '143404',\n",
       " '144',\n",
       " '1441118',\n",
       " '14452',\n",
       " '1466571',\n",
       " '14848',\n",
       " '148483',\n",
       " '1485228',\n",
       " '1485262',\n",
       " '148769',\n",
       " '1490807',\n",
       " '152583',\n",
       " '15292',\n",
       " '1541899',\n",
       " '154543',\n",
       " '154626',\n",
       " '154659',\n",
       " '15466',\n",
       " '155052',\n",
       " '155310',\n",
       " '155629',\n",
       " '156',\n",
       " '156525',\n",
       " '156842',\n",
       " '15838',\n",
       " '160',\n",
       " '1619112',\n",
       " '1620399',\n",
       " '1620438',\n",
       " '1622092',\n",
       " '1622228',\n",
       " '1622620',\n",
       " '1629875',\n",
       " '1629941',\n",
       " '1630433',\n",
       " '1630881',\n",
       " '1649093',\n",
       " '1650044',\n",
       " '166971',\n",
       " '167166',\n",
       " '1677995',\n",
       " '1687805',\n",
       " '16975',\n",
       " '170717',\n",
       " '171334',\n",
       " '171437',\n",
       " '173081',\n",
       " '173672',\n",
       " '17392',\n",
       " '1748968',\n",
       " '1749298',\n",
       " '1749575',\n",
       " '1749693',\n",
       " '1750260',\n",
       " '1751116',\n",
       " '1751526',\n",
       " '17688',\n",
       " '1773',\n",
       " '1786439',\n",
       " '1786645',\n",
       " '1786691',\n",
       " '1786713',\n",
       " '1787227',\n",
       " '1787429',\n",
       " '179',\n",
       " '1866297',\n",
       " '1866529',\n",
       " '1888837',\n",
       " '1888945',\n",
       " '1914307',\n",
       " '1963693',\n",
       " '198',\n",
       " '2',\n",
       " '200',\n",
       " '200958',\n",
       " '204033',\n",
       " '2046670',\n",
       " '206',\n",
       " '208041',\n",
       " '208373',\n",
       " '2083822',\n",
       " '208476',\n",
       " '209479',\n",
       " '210179',\n",
       " '2122974',\n",
       " '212821',\n",
       " '2138851',\n",
       " '2138891',\n",
       " '214205',\n",
       " '214548',\n",
       " '214853',\n",
       " '215733',\n",
       " '215754',\n",
       " '215947',\n",
       " '2182548',\n",
       " '219335',\n",
       " '219743',\n",
       " '219795',\n",
       " '2207011',\n",
       " '220803',\n",
       " '222134',\n",
       " '222451',\n",
       " '2227065',\n",
       " '224783',\n",
       " '225713',\n",
       " '226369',\n",
       " '227561',\n",
       " '227728',\n",
       " '227840',\n",
       " '229269',\n",
       " '2303440',\n",
       " '230711',\n",
       " '232997',\n",
       " '234131',\n",
       " '2355239',\n",
       " '2355637',\n",
       " '236955',\n",
       " '237984',\n",
       " '2383549',\n",
       " '2388740',\n",
       " '2388940',\n",
       " '2389902',\n",
       " '239',\n",
       " '2395489',\n",
       " '2403554',\n",
       " '2406231',\n",
       " '2411421',\n",
       " '2414306',\n",
       " '2421333',\n",
       " '2423388',\n",
       " '2430499',\n",
       " '243100',\n",
       " '2437182',\n",
       " '2438964',\n",
       " '2438965',\n",
       " '2475444',\n",
       " '2475793',\n",
       " '2478835',\n",
       " '2480164',\n",
       " '2487552',\n",
       " '2487671',\n",
       " '2509847',\n",
       " '255',\n",
       " '255833',\n",
       " '2561670',\n",
       " '2562209',\n",
       " '2562260',\n",
       " '257544',\n",
       " '265291',\n",
       " '265524',\n",
       " '267616',\n",
       " '2698569',\n",
       " '2698791',\n",
       " '2708920',\n",
       " '271',\n",
       " '2710191',\n",
       " '272',\n",
       " '272181',\n",
       " '272195',\n",
       " '272211',\n",
       " '273093',\n",
       " '2744590',\n",
       " '2751244',\n",
       " '275870',\n",
       " '2765898',\n",
       " '276916',\n",
       " '277',\n",
       " '278',\n",
       " '279',\n",
       " '280107',\n",
       " '280742',\n",
       " '2826221',\n",
       " '2834024',\n",
       " '2835809',\n",
       " '284',\n",
       " '284024',\n",
       " '2850484',\n",
       " '2854732',\n",
       " '286',\n",
       " '2866300',\n",
       " '2894729',\n",
       " '2896760',\n",
       " '2898364',\n",
       " '2898375',\n",
       " '2902778',\n",
       " '293660',\n",
       " '293818',\n",
       " '2941978',\n",
       " '294203',\n",
       " '2949946',\n",
       " '2951186',\n",
       " '2953194',\n",
       " '2953499',\n",
       " '2953926',\n",
       " '2955607',\n",
       " '296776',\n",
       " '2978528',\n",
       " '298739',\n",
       " '2988057',\n",
       " '3004377',\n",
       " '305',\n",
       " '3053791',\n",
       " '3067646',\n",
       " '307',\n",
       " '30700',\n",
       " '30970',\n",
       " '312910',\n",
       " '31313',\n",
       " '313662',\n",
       " '314080',\n",
       " '314487',\n",
       " '315703',\n",
       " '315705',\n",
       " '316015',\n",
       " '318979',\n",
       " '321',\n",
       " '321900',\n",
       " '322742',\n",
       " '323971',\n",
       " '324278',\n",
       " '324943',\n",
       " '329750',\n",
       " '330256',\n",
       " '330966',\n",
       " '3324',\n",
       " '33312',\n",
       " '337401',\n",
       " '338119',\n",
       " '338163',\n",
       " '338357',\n",
       " '339444',\n",
       " '33954',\n",
       " '340040',\n",
       " '340168',\n",
       " '342478',\n",
       " '3427422',\n",
       " '343255',\n",
       " '34591',\n",
       " '347504',\n",
       " '347655',\n",
       " '350151',\n",
       " '3526190',\n",
       " '35291',\n",
       " '3530149',\n",
       " '353030',\n",
       " '3531958',\n",
       " '3541996',\n",
       " '3548171',\n",
       " '35551',\n",
       " '356004',\n",
       " '356460',\n",
       " '3568976',\n",
       " '3569426',\n",
       " '3577781',\n",
       " '358112',\n",
       " '358473',\n",
       " '3587442',\n",
       " '35944',\n",
       " '360735',\n",
       " '3621491',\n",
       " '362264',\n",
       " '3624263',\n",
       " '3631797',\n",
       " '3638731',\n",
       " '3640202',\n",
       " '3657600',\n",
       " '36652',\n",
       " '36660',\n",
       " '3667937',\n",
       " '366934',\n",
       " '36820',\n",
       " '369038',\n",
       " '369815',\n",
       " '371564',\n",
       " '373690',\n",
       " '376543',\n",
       " '3772963',\n",
       " '377833',\n",
       " '378524',\n",
       " '3793448',\n",
       " '3794',\n",
       " '379622',\n",
       " '3818222',\n",
       " '3820664',\n",
       " '383753',\n",
       " '3848369',\n",
       " '3893357',\n",
       " '3906159',\n",
       " '3927073',\n",
       " '3969365',\n",
       " '3978589',\n",
       " '3979322',\n",
       " '3980296',\n",
       " '3985791',\n",
       " '3999075',\n",
       " '401694',\n",
       " '4071950',\n",
       " '409633',\n",
       " '409695',\n",
       " '4200883',\n",
       " '421339',\n",
       " '4246',\n",
       " '424970',\n",
       " '425784',\n",
       " '427156',\n",
       " '431266',\n",
       " '4324',\n",
       " '4472',\n",
       " '4473531',\n",
       " '4492719',\n",
       " '451813',\n",
       " '453563',\n",
       " '455339',\n",
       " '455343',\n",
       " '455660',\n",
       " '457127',\n",
       " '457253',\n",
       " '459129',\n",
       " '460475',\n",
       " '461140',\n",
       " '461409',\n",
       " '461587',\n",
       " '461659',\n",
       " '463737',\n",
       " '4641',\n",
       " '467057',\n",
       " '469310',\n",
       " '475965',\n",
       " '477110',\n",
       " '477792',\n",
       " '478393',\n",
       " '478884',\n",
       " '480190',\n",
       " '480192',\n",
       " '480433',\n",
       " '482609',\n",
       " '484549',\n",
       " '484562',\n",
       " '485307',\n",
       " '488241',\n",
       " '492117',\n",
       " '493505',\n",
       " '494155',\n",
       " '494242',\n",
       " '495113',\n",
       " '495968',\n",
       " '496220',\n",
       " '4963',\n",
       " '496463',\n",
       " '498005',\n",
       " '499323',\n",
       " '499983',\n",
       " '500555',\n",
       " '501757',\n",
       " '52647',\n",
       " '5513',\n",
       " '55351',\n",
       " '60',\n",
       " '619615',\n",
       " '624815',\n",
       " '6367',\n",
       " '64209',\n",
       " '6548',\n",
       " '657024',\n",
       " '67',\n",
       " '70',\n",
       " '7002',\n",
       " '7017',\n",
       " '7313',\n",
       " '7402',\n",
       " '7498',\n",
       " '75',\n",
       " '78565',\n",
       " '7999',\n",
       " '8070',\n",
       " '8355',\n",
       " '8476',\n",
       " '84852',\n",
       " '8498',\n",
       " '8505',\n",
       " '8511',\n",
       " '8522',\n",
       " '8552',\n",
       " '8556',\n",
       " '8648',\n",
       " '8766',\n",
       " '8858',\n",
       " '8947',\n",
       " '9095',\n",
       " '9109',\n",
       " '9270',\n",
       " '9284',\n",
       " '9415',\n",
       " '94239',\n",
       " '9431',\n",
       " '97',\n",
       " '97268',\n",
       " '9728',\n",
       " '9861']"
      ]
     },
     "execution_count": 461,
     "metadata": {},
     "output_type": "execute_result"
    }
   ],
   "source": [
    "df_list"
   ]
  },
  {
   "cell_type": "code",
   "execution_count": 466,
   "id": "cfb0ac8e",
   "metadata": {},
   "outputs": [
    {
     "name": "stdout",
     "output_type": "stream",
     "text": [
      "101699, 102088, 104494, 10476, 106, 107338, 1076039, 107746, 10793, 10838, 1090381, 1090664, 109320, 109713, 11001, 110111, 110142, 11156, 112, 112090, 112268, 114411, 115, 115457, 115672, 116436, 11691, 116932, 118106, 11857, 11925, 119353, 119647, 1200405, 1200595, 120130, 121224, 121611, 121722, 122084, 122134, 122136, 1229, 1231, 123222, 12435, 124674, 125352, 12536, 12543, 125617, 126049, 127297, 128608, 129, 1304, 131660, 133892, 13542, 135502, 135666, 135669, 136625, 137277, 138432, 138437, 138458, 1385, 138775, 138794, 139059, 14044, 140917, 14139, 14227, 142945, 143112, 143179, 143404, 144, 1441118, 14452, 1466571, 14848, 148483, 1485228, 1485262, 148769, 1490807, 152583, 15292, 1541899, 154543, 154626, 154659, 15466, 155052, 155310, 155629, 156, 156525, 156842, 15838, 160, 1619112, 1620399, 1620438, 1622092, 1622228, 1622620, 1629875, 1629941, 1630433, 1630881, 1649093, 1650044, 166971, 167166, 1677995, 1687805, 16975, 170717, 171334, 171437, 173081, 173672, 17392, 1748968, 1749298, 1749575, 1749693, 1750260, 1751116, 1751526, 17688, 1773, 1786439, 1786645, 1786691, 1786713, 1787227, 1787429, 179, 1866297, 1866529, 1888837, 1888945, 1914307, 1963693, 198, 2, 200, 200958, 204033, 2046670, 206, 208041, 208373, 2083822, 208476, 209479, 210179, 2122974, 212821, 2138851, 2138891, 214205, 214548, 214853, 215733, 215754, 215947, 2182548, 219335, 219743, 219795, 2207011, 220803, 222134, 222451, 2227065, 224783, 225713, 226369, 227561, 227728, 227840, 229269, 2303440, 230711, 232997, 234131, 2355239, 2355637, 236955, 237984, 2383549, 2388740, 2388940, 2389902, 239, 2395489, 2403554, 2406231, 2411421, 2414306, 2421333, 2423388, 2430499, 243100, 2437182, 2438964, 2438965, 2475444, 2475793, 2478835, 2480164, 2487552, 2487671, 2509847, 255, 255833, 2561670, 2562209, 2562260, 257544, 265291, 265524, 267616, 2698569, 2698791, 2708920, 271, 2710191, 272, 272181, 272195, 272211, 273093, 2744590, 2751244, 275870, 2765898, 276916, 277, 278, 279, 280107, 280742, 2826221, 2834024, 2835809, 284, 284024, 2850484, 2854732, 286, 2866300, 2894729, 2896760, 2898364, 2898375, 2902778, 293660, 293818, 2941978, 294203, 2949946, 2951186, 2953194, 2953499, 2953926, 2955607, 296776, 2978528, 298739, 2988057, 3004377, 305, 3053791, 3067646, 307, 30700, 30970, 312910, 31313, 313662, 314080, 314487, 315703, 315705, 316015, 318979, 321, 321900, 322742, 323971, 324278, 324943, 329750, 330256, 330966, 3324, 33312, 337401, 338119, 338163, 338357, 339444, 33954, 340040, 340168, 342478, 3427422, 343255, 34591, 347504, 347655, 350151, 3526190, 35291, 3530149, 353030, 3531958, 3541996, 3548171, 35551, 356004, 356460, 3568976, 3569426, 3577781, 358112, 358473, 3587442, 35944, 360735, 3621491, 362264, 3624263, 3631797, 3638731, 3640202, 3657600, 36652, 36660, 3667937, 366934, 36820, 369038, 369815, 371564, 373690, 376543, 3772963, 377833, 378524, 3793448, 3794, 379622, 3818222, 3820664, 383753, 3848369, 3893357, 3906159, 3927073, 3969365, 3978589, 3979322, 3980296, 3985791, 3999075, 401694, 4071950, 409633, 409695, 4200883, 421339, 4246, 424970, 425784, 427156, 431266, 4324, 4472, 4473531, 4492719, 451813, 453563, 455339, 455343, 455660, 457127, 457253, 459129, 460475, 461140, 461409, 461587, 461659, 463737, 4641, 467057, 469310, 475965, 477110, 477792, 478393, 478884, 480190, 480192, 480433, 482609, 484549, 484562, 485307, 488241, 492117, 493505, 494155, 494242, 495113, 495968, 496220, 4963, 496463, 498005, 499323, 499983, 500555, 501757, 52647, 5513, 55351, 60, 619615, 624815, 6367, 64209, 6548, 657024, 67, 70, 7002, 7017, 7313, 7402, 7498, 75, 78565, 7999, 8070, 8355, 8476, 84852, 8498, 8505, 8511, 8522, 8552, 8556, 8648, 8766, 8858, 8947, 9095, 9109, 9270, 9284, 9415, 94239, 9431, 97, 97268, 9728, 9861\n",
      "\n"
     ]
    }
   ],
   "source": [
    "print(\", \".join(df_list), end='\\n\\n')"
   ]
  },
  {
   "cell_type": "code",
   "execution_count": 470,
   "id": "ba64235d",
   "metadata": {},
   "outputs": [
    {
     "data": {
      "text/html": [
       "<div>\n",
       "<style scoped>\n",
       "    .dataframe tbody tr th:only-of-type {\n",
       "        vertical-align: middle;\n",
       "    }\n",
       "\n",
       "    .dataframe tbody tr th {\n",
       "        vertical-align: top;\n",
       "    }\n",
       "\n",
       "    .dataframe thead th {\n",
       "        text-align: right;\n",
       "    }\n",
       "</style>\n",
       "<table border=\"1\" class=\"dataframe\">\n",
       "  <thead>\n",
       "    <tr style=\"text-align: right;\">\n",
       "      <th></th>\n",
       "      <th>pk</th>\n",
       "      <th>series_id</th>\n",
       "      <th>vibeCd</th>\n",
       "      <th>name</th>\n",
       "      <th>new_albumName</th>\n",
       "      <th>release_date</th>\n",
       "      <th>genre</th>\n",
       "      <th>regist_date</th>\n",
       "      <th>update_date</th>\n",
       "    </tr>\n",
       "  </thead>\n",
       "  <tbody>\n",
       "    <tr>\n",
       "      <th>0</th>\n",
       "      <td>23</td>\n",
       "      <td>2</td>\n",
       "      <td>117564</td>\n",
       "      <td>2NE1</td>\n",
       "      <td>None</td>\n",
       "      <td>None</td>\n",
       "      <td>None</td>\n",
       "      <td>2021-09-06 09:31:57</td>\n",
       "      <td>NaT</td>\n",
       "    </tr>\n",
       "    <tr>\n",
       "      <th>1</th>\n",
       "      <td>30</td>\n",
       "      <td>9</td>\n",
       "      <td>208477</td>\n",
       "      <td>EXO-K</td>\n",
       "      <td>None</td>\n",
       "      <td>None</td>\n",
       "      <td>None</td>\n",
       "      <td>2021-09-06 09:32:21</td>\n",
       "      <td>NaT</td>\n",
       "    </tr>\n",
       "    <tr>\n",
       "      <th>2</th>\n",
       "      <td>34</td>\n",
       "      <td>13</td>\n",
       "      <td>1234</td>\n",
       "      <td>god</td>\n",
       "      <td>None</td>\n",
       "      <td>None</td>\n",
       "      <td>None</td>\n",
       "      <td>2021-09-06 09:32:35</td>\n",
       "      <td>NaT</td>\n",
       "    </tr>\n",
       "    <tr>\n",
       "      <th>3</th>\n",
       "      <td>38</td>\n",
       "      <td>15</td>\n",
       "      <td>143596</td>\n",
       "      <td>JYJ</td>\n",
       "      <td>None</td>\n",
       "      <td>None</td>\n",
       "      <td>None</td>\n",
       "      <td>2021-09-06 09:40:08</td>\n",
       "      <td>NaT</td>\n",
       "    </tr>\n",
       "    <tr>\n",
       "      <th>4</th>\n",
       "      <td>41</td>\n",
       "      <td>18</td>\n",
       "      <td>9346</td>\n",
       "      <td>MC몽</td>\n",
       "      <td>None</td>\n",
       "      <td>None</td>\n",
       "      <td>None</td>\n",
       "      <td>2021-09-06 09:40:24</td>\n",
       "      <td>NaT</td>\n",
       "    </tr>\n",
       "  </tbody>\n",
       "</table>\n",
       "</div>"
      ],
      "text/plain": [
       "   pk  series_id  vibeCd   name new_albumName release_date genre  \\\n",
       "0  23          2  117564   2NE1          None         None  None   \n",
       "1  30          9  208477  EXO-K          None         None  None   \n",
       "2  34         13    1234    god          None         None  None   \n",
       "3  38         15  143596    JYJ          None         None  None   \n",
       "4  41         18    9346    MC몽          None         None  None   \n",
       "\n",
       "          regist_date update_date  \n",
       "0 2021-09-06 09:31:57         NaT  \n",
       "1 2021-09-06 09:32:21         NaT  \n",
       "2 2021-09-06 09:32:35         NaT  \n",
       "3 2021-09-06 09:40:08         NaT  \n",
       "4 2021-09-06 09:40:24         NaT  "
      ]
     },
     "execution_count": 470,
     "metadata": {},
     "output_type": "execute_result"
    }
   ],
   "source": [
    "conn, engine = db_connection()\n",
    "qry = 'SELECT * FROM star_album_genre_copy_'\n",
    "alldf = pd.read_sql(qry, con=conn)\n",
    "alldf.head()"
   ]
  },
  {
   "cell_type": "code",
   "execution_count": 471,
   "id": "34d2d253",
   "metadata": {},
   "outputs": [
    {
     "data": {
      "text/plain": [
       "2331"
      ]
     },
     "execution_count": 471,
     "metadata": {},
     "output_type": "execute_result"
    }
   ],
   "source": [
    "len(alldf)"
   ]
  },
  {
   "cell_type": "code",
   "execution_count": 521,
   "id": "4f1435aa",
   "metadata": {},
   "outputs": [],
   "source": [
    "conn.close()"
   ]
  },
  {
   "cell_type": "code",
   "execution_count": null,
   "id": "0fe2ebc8",
   "metadata": {},
   "outputs": [],
   "source": []
  }
 ],
 "metadata": {
  "kernelspec": {
   "display_name": "Python 3",
   "language": "python",
   "name": "python3"
  },
  "language_info": {
   "codemirror_mode": {
    "name": "ipython",
    "version": 3
   },
   "file_extension": ".py",
   "mimetype": "text/x-python",
   "name": "python",
   "nbconvert_exporter": "python",
   "pygments_lexer": "ipython3",
   "version": "3.8.8"
  }
 },
 "nbformat": 4,
 "nbformat_minor": 5
}
