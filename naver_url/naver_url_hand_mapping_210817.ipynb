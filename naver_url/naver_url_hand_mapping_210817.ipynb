{
 "cells": [
  {
   "cell_type": "code",
   "execution_count": 1,
   "id": "566f675e",
   "metadata": {},
   "outputs": [],
   "source": [
    "import pandas as pd\n",
    "from bs4 import BeautifulSoup\n",
    "import requests\n",
    "import re\n",
    "import datetime\n",
    "from difflib import SequenceMatcher\n",
    "import pymysql\n",
    "from sqlalchemy import create_engine\n",
    "from tqdm import tqdm\n",
    "from selenium import webdriver\n",
    "from webdriver_manager.chrome import ChromeDriverManager\n",
    "from tqdm import tqdm"
   ]
  },
  {
   "cell_type": "code",
   "execution_count": 16,
   "id": "201a3ee6",
   "metadata": {},
   "outputs": [],
   "source": [
    "def db_connection(host_name='ds'):\n",
    "    host_url = \"db.ds.mycelebs.com\"\n",
    "    user_nm = \"j_eungg\"\n",
    "    passwd = \"mycelebs\"\n",
    "    port_num = 3306\n",
    "    db_name = \"star_ko\"\n",
    "    conn = pymysql.connect(host=host_url, user=user_nm, passwd=passwd, port = port_num, charset='utf8',\n",
    "                           db=db_name, cursorclass=pymysql.cursors.DictCursor)\n",
    "    # cursorclass=pymysql.cursors.DictCursor 추가 -> 데이터프레임으로 다루기 쉽게 딕셔너리 형태로 결과 반환해줌, cursor는 튜플형태\n",
    "    # db=db,\n",
    "    engine = create_engine(f'mysql+pymysql://{user_nm}:{passwd}@{host_url}:{port_num}/{db_name}?charset=utf8mb4')\n",
    "    return conn, engine\n",
    "\n",
    "conn, engine = db_connection()"
   ]
  },
  {
   "cell_type": "code",
   "execution_count": 17,
   "id": "0e69f468",
   "metadata": {},
   "outputs": [],
   "source": [
    "qry = 'SELECT * FROM star_ko_profile_url WHERE naver_url=\\'0\\''\n",
    "data = pd.read_sql(qry, conn)\n",
    "\n",
    "data.head()"
   ]
  },
  {
   "cell_type": "code",
   "execution_count": 19,
   "id": "bebe0aff",
   "metadata": {},
   "outputs": [
    {
     "data": {
      "text/plain": [
       "44"
      ]
     },
     "execution_count": 19,
     "metadata": {},
     "output_type": "execute_result"
    }
   ],
   "source": [
    "len(data)"
   ]
  },
  {
   "cell_type": "code",
   "execution_count": 20,
   "id": "0bacf3f9",
   "metadata": {},
   "outputs": [
    {
     "name": "stdout",
     "output_type": "stream",
     "text": [
      "url 수집할 개체 수 입력 :3\n"
     ]
    },
    {
     "name": "stderr",
     "output_type": "stream",
     "text": [
      "\n",
      "\n",
      "====== WebDriver manager ======\n",
      "Current google-chrome version is 91.0.4472\n",
      "Get LATEST driver version for 91.0.4472\n",
      "Driver [/Users/jieun/.wdm/drivers/chromedriver/mac64/91.0.4472.101/chromedriver] found in cache\n",
      "\n",
      "\n",
      "====== WebDriver manager ======\n",
      "Current google-chrome version is 91.0.4472\n",
      "Get LATEST driver version for 91.0.4472\n",
      "Driver [/Users/jieun/.wdm/drivers/chromedriver/mac64/91.0.4472.101/chromedriver] found in cache\n",
      "<ipython-input-20-2f9d149ad2fe>:16: DeprecationWarning: use driver.switch_to.window instead\n",
      "  profile.switch_to_window(tabs[i])\n"
     ]
    },
    {
     "name": "stdout",
     "output_type": "stream",
     "text": [
      "GI  -  12\n",
      "url을 입력하세요(없으면 입력 X): https://people.search.naver.com/search.naver?where=nexearch&sm=tab_ppn&query=gi&os=562325&ie=utf8&key=PeopleService\n",
      "GOT7  -  14\n",
      "url을 입력하세요(없으면 입력 X): https://people.search.naver.com/search.naver?where=nexearch&sm=tab_ppn&query=got7&os=1706603&ie=utf8&key=PeopleService\n",
      "강레오  -  29\n",
      "url을 입력하세요(없으면 입력 X): https://people.search.naver.com/search.naver?where=nexearch&sm=tab_ppn&query=%EA%B0%95%EB%A0%88%EC%98%A4&os=176457&ie=utf8&key=PeopleService\n"
     ]
    }
   ],
   "source": [
    "cursor = conn.cursor(pymysql.cursors.DictCursor)\n",
    "\n",
    "number = int(input(\"url 수집할 개체 수 입력 :\"))\n",
    "ex = data[0:number]\n",
    "\n",
    "chrome_options = webdriver.ChromeOptions()\n",
    "naver_drv = webdriver.Chrome(ChromeDriverManager().install(), options = chrome_options)\n",
    "profile = webdriver.Chrome(ChromeDriverManager().install(), options=chrome_options)\n",
    "\n",
    "for i in range(len(ex)-1) :\n",
    "    profile.execute_script('window.open(\"about:blank\", \"_blank\");')\n",
    "    \n",
    "tabs = profile.window_handles\n",
    "\n",
    "for i in range(len(ex)) :\n",
    "    profile.switch_to_window(tabs[i])\n",
    "    profile.get(f'https://www.mycelebs.ai/celeb/{int(ex[\"series_id\"].iloc[i])}')\n",
    "    try :\n",
    "        profile.find_element_by_xpath('//*[@id=\"closedOneWeek\"]').click()\n",
    "    except :\n",
    "        pass\n",
    "\n",
    "for i, row in ex.iterrows() :\n",
    "    series_id = row['series_id']\n",
    "    name = row['name']\n",
    "    \n",
    "    \n",
    "    naver_drv.get('https://people.search.naver.com/')\n",
    "    naver_drv.find_element_by_id('nx_query').send_keys(name)\n",
    "    naver_drv.find_element_by_class_name('btn_window').click()\n",
    "    \n",
    "    print(name, ' - ', series_id)\n",
    "    naver_url = input(\"url을 입력하세요(없으면 입력 X): \")\n",
    "    \n",
    "    if naver_url == '' :\n",
    "        qry = f'update star_ko_profile_url set naver_url=\\'x\\', update_date=NOW() where series_id={series_id};'\n",
    "        cursor.execute(qry)\n",
    "        conn.commit()\n",
    "    else :\n",
    "        qry = f'update star_ko_profile_url set naver_url=\\'{naver_url}\\', update_date=NOW() where series_id={series_id};'\n",
    "        cursor.execute(qry)\n",
    "        conn.commit()\n",
    "    \n",
    "conn.close()\n",
    "naver_drv.close()\n",
    "profile.close()"
   ]
  },
  {
   "cell_type": "code",
   "execution_count": null,
   "id": "f305120f",
   "metadata": {},
   "outputs": [],
   "source": []
  }
 ],
 "metadata": {
  "kernelspec": {
   "display_name": "Python 3",
   "language": "python",
   "name": "python3"
  },
  "language_info": {
   "codemirror_mode": {
    "name": "ipython",
    "version": 3
   },
   "file_extension": ".py",
   "mimetype": "text/x-python",
   "name": "python",
   "nbconvert_exporter": "python",
   "pygments_lexer": "ipython3",
   "version": "3.8.8"
  }
 },
 "nbformat": 4,
 "nbformat_minor": 5
}
