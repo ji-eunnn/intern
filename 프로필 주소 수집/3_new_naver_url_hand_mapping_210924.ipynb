{
 "cells": [
  {
   "cell_type": "markdown",
   "id": "7c1eaa81",
   "metadata": {},
   "source": [
    "목표 : 자동 매핑 안된 개체들 수기로 네이버 프로필 주소 수집하기"
   ]
  },
  {
   "cell_type": "code",
   "execution_count": null,
   "id": "566f675e",
   "metadata": {},
   "outputs": [],
   "source": [
    "import pandas as pd\n",
    "from bs4 import BeautifulSoup\n",
    "import requests\n",
    "import re\n",
    "import datetime\n",
    "from difflib import SequenceMatcher\n",
    "import pymysql\n",
    "from sqlalchemy import create_engine\n",
    "from tqdm import tqdm\n",
    "from selenium import webdriver\n",
    "from webdriver_manager.chrome import ChromeDriverManager\n",
    "from tqdm import tqdm"
   ]
  },
  {
   "cell_type": "code",
   "execution_count": null,
   "id": "201a3ee6",
   "metadata": {},
   "outputs": [],
   "source": [
    "def db_connection(host_name='ds'):\n",
    "    host_url = \"db.ds.mycelebs.com\"\n",
    "    user_nm = \n",
    "    passwd = \n",
    "    port_num = 3306\n",
    "    db_name = \"star_ko\"\n",
    "    conn = pymysql.connect(host=host_url, user=user_nm, passwd=passwd, port = port_num, charset='utf8',\n",
    "                           db=db_name, cursorclass=pymysql.cursors.DictCursor)\n",
    "    # cursorclass=pymysql.cursors.DictCursor 추가 -> 데이터프레임으로 다루기 쉽게 딕셔너리 형태로 결과 반환해줌, cursor는 튜플형태\n",
    "    # db=db,\n",
    "    engine = create_engine(f'mysql+pymysql://{user_nm}:{passwd}@{host_url}:{port_num}/{db_name}?charset=utf8mb4')\n",
    "    return conn, engine\n",
    "\n",
    "conn, engine = db_connection()"
   ]
  },
  {
   "cell_type": "code",
   "execution_count": null,
   "id": "0e69f468",
   "metadata": {},
   "outputs": [],
   "source": [
    "qry = 'SELECT * FROM star_ko_profile_url WHERE naver_url=\\'0\\''\n",
    "data = pd.read_sql(qry, conn)\n",
    "\n",
    "data.head()"
   ]
  },
  {
   "cell_type": "code",
   "execution_count": null,
   "id": "bebe0aff",
   "metadata": {},
   "outputs": [],
   "source": [
    "len(data)"
   ]
  },
  {
   "cell_type": "code",
   "execution_count": null,
   "id": "0bacf3f9",
   "metadata": {},
   "outputs": [],
   "source": [
    "cursor = conn.cursor(pymysql.cursors.DictCursor)\n",
    "\n",
    "number = int(input(\"url 수집할 개체 수 입력 :\"))\n",
    "ex = data[0:number]\n",
    "\n",
    "chrome_options = webdriver.ChromeOptions()\n",
    "naver_drv = webdriver.Chrome(ChromeDriverManager().install(), options = chrome_options)\n",
    "profile = webdriver.Chrome(ChromeDriverManager().install(), options=chrome_options)\n",
    "\n",
    "for i in range(len(ex)-1) :\n",
    "    profile.execute_script('window.open(\"about:blank\", \"_blank\");')\n",
    "    \n",
    "tabs = profile.window_handles\n",
    "\n",
    "for i in range(len(ex)) :\n",
    "    profile.switch_to_window(tabs[i])\n",
    "    profile.get(f'https://www.mycelebs.ai/celeb/{int(ex[\"series_id\"].iloc[i])}')\n",
    "    try :\n",
    "        profile.find_element_by_xpath('//*[@id=\"closedOneWeek\"]').click()\n",
    "    except :\n",
    "        pass\n",
    "\n",
    "for i, row in ex.iterrows() :\n",
    "    series_id = row['series_id']\n",
    "    name = row['name']\n",
    "    \n",
    "    \n",
    "    naver_drv.get(f'https://search.naver.com/search.naver?where=m&sm=mtb_etc&mra=bjky&pkid=1&qvt=0&query={name}')\n",
    "    \n",
    "    print(name, ' - ', series_id)\n",
    "    naver_url = input(\"url을 입력하세요(없으면 입력 X): \")\n",
    "    \n",
    "    if naver_url == '' :\n",
    "        qry = f'update star_ko_profile_url set naver_url=\\'x\\', update_date=NOW() where series_id={series_id};'\n",
    "        cursor.execute(qry)\n",
    "        conn.commit()\n",
    "    else :\n",
    "        naver_id = re.findall('&os=(\\d+)', naver_url)    \n",
    "        qry = f\"update star_ko_profile_url set naver_url='{naver_url}', naver_people_id='{naver_id[0]}', update_date=NOW() where series_id={series_id};\"\n",
    "        cursor.execute(qry)\n",
    "        conn.commit()\n",
    "    \n",
    "conn.close()\n",
    "naver_drv.close()\n",
    "profile.close()"
   ]
  },
  {
   "cell_type": "code",
   "execution_count": null,
   "id": "8e9b6be5",
   "metadata": {},
   "outputs": [],
   "source": []
  }
 ],
 "metadata": {
  "kernelspec": {
   "display_name": "Python 3",
   "language": "python",
   "name": "python3"
  },
  "language_info": {
   "codemirror_mode": {
    "name": "ipython",
    "version": 3
   },
   "file_extension": ".py",
   "mimetype": "text/x-python",
   "name": "python",
   "nbconvert_exporter": "python",
   "pygments_lexer": "ipython3",
   "version": "3.8.8"
  }
 },
 "nbformat": 4,
 "nbformat_minor": 5
}
